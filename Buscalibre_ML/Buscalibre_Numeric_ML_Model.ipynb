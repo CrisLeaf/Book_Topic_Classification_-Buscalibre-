{
  "nbformat": 4,
  "nbformat_minor": 0,
  "metadata": {
    "colab": {
      "name": "Buscalibre_Numeric_ML_Model.ipynb",
      "provenance": []
    },
    "kernelspec": {
      "name": "python3",
      "display_name": "Python 3"
    },
    "language_info": {
      "name": "python"
    },
    "accelerator": "GPU"
  },
  "cells": [
    {
      "cell_type": "markdown",
      "metadata": {
        "id": "s14YH6D4pBzq"
      },
      "source": [
        "# Buscalibre Numeric Model\n",
        "\n",
        "The preprocessed has two types of data, numeric and text data. Here, we try to build an estimator using only the numeric part."
      ]
    },
    {
      "cell_type": "markdown",
      "metadata": {
        "id": "L29d5QCts0CS"
      },
      "source": [
        "## Libraries and Data"
      ]
    },
    {
      "cell_type": "markdown",
      "metadata": {
        "id": "PX6IKSn4s7T9"
      },
      "source": [
        "Import the neccesary packages."
      ]
    },
    {
      "cell_type": "code",
      "metadata": {
        "colab": {
          "base_uri": "https://localhost:8080/"
        },
        "id": "kuxUuKYqszh3",
        "outputId": "1e8cdc5d-bae4-4018-bc01-b15f0fafa01e"
      },
      "source": [
        "!pip install catboost\n",
        "import numpy as np\n",
        "import pandas as pd\n",
        "import matplotlib.pyplot as plt\n",
        "import seaborn as sns\n",
        "\n",
        "from sklearn.pipeline import make_pipeline\n",
        "from sklearn.preprocessing import StandardScaler, MinMaxScaler, LabelEncoder\n",
        "from sklearn.base import BaseEstimator, ClassifierMixin, clone\n",
        "from sklearn.model_selection import StratifiedKFold, cross_val_score\n",
        "from sklearn.metrics import accuracy_score\n",
        "\n",
        "from sklearn.ensemble import RandomForestClassifier\n",
        "from sklearn.multiclass import OneVsRestClassifier\n",
        "from sklearn.linear_model import LogisticRegression\n",
        "from xgboost import XGBClassifier\n",
        "from lightgbm import LGBMClassifier\n",
        "from catboost import CatBoostClassifier\n",
        "\n",
        "import tensorflow as tf\n",
        "from tensorflow.keras.models import Sequential\n",
        "from tensorflow.keras.layers import Dense"
      ],
      "execution_count": 1,
      "outputs": [
        {
          "output_type": "stream",
          "text": [
            "Collecting catboost\n",
            "\u001b[?25l  Downloading https://files.pythonhosted.org/packages/5a/41/24e14322b9986cf72a8763e0a0a69cc256cf963cf9502c8f0044a62c1ae8/catboost-0.26-cp37-none-manylinux1_x86_64.whl (69.2MB)\n",
            "\u001b[K     |████████████████████████████████| 69.2MB 41kB/s \n",
            "\u001b[?25hRequirement already satisfied: six in /usr/local/lib/python3.7/dist-packages (from catboost) (1.15.0)\n",
            "Requirement already satisfied: numpy>=1.16.0 in /usr/local/lib/python3.7/dist-packages (from catboost) (1.19.5)\n",
            "Requirement already satisfied: graphviz in /usr/local/lib/python3.7/dist-packages (from catboost) (0.10.1)\n",
            "Requirement already satisfied: matplotlib in /usr/local/lib/python3.7/dist-packages (from catboost) (3.2.2)\n",
            "Requirement already satisfied: scipy in /usr/local/lib/python3.7/dist-packages (from catboost) (1.4.1)\n",
            "Requirement already satisfied: plotly in /usr/local/lib/python3.7/dist-packages (from catboost) (4.4.1)\n",
            "Requirement already satisfied: pandas>=0.24.0 in /usr/local/lib/python3.7/dist-packages (from catboost) (1.1.5)\n",
            "Requirement already satisfied: python-dateutil>=2.1 in /usr/local/lib/python3.7/dist-packages (from matplotlib->catboost) (2.8.1)\n",
            "Requirement already satisfied: cycler>=0.10 in /usr/local/lib/python3.7/dist-packages (from matplotlib->catboost) (0.10.0)\n",
            "Requirement already satisfied: pyparsing!=2.0.4,!=2.1.2,!=2.1.6,>=2.0.1 in /usr/local/lib/python3.7/dist-packages (from matplotlib->catboost) (2.4.7)\n",
            "Requirement already satisfied: kiwisolver>=1.0.1 in /usr/local/lib/python3.7/dist-packages (from matplotlib->catboost) (1.3.1)\n",
            "Requirement already satisfied: retrying>=1.3.3 in /usr/local/lib/python3.7/dist-packages (from plotly->catboost) (1.3.3)\n",
            "Requirement already satisfied: pytz>=2017.2 in /usr/local/lib/python3.7/dist-packages (from pandas>=0.24.0->catboost) (2018.9)\n",
            "Installing collected packages: catboost\n",
            "Successfully installed catboost-0.26\n"
          ],
          "name": "stdout"
        }
      ]
    },
    {
      "cell_type": "code",
      "metadata": {
        "colab": {
          "resources": {
            "http://localhost:8080/nbextensions/google.colab/files.js": {
              "data": "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",
              "ok": true,
              "headers": [
                [
                  "content-type",
                  "application/javascript"
                ]
              ],
              "status": 200,
              "status_text": ""
            }
          },
          "base_uri": "https://localhost:8080/",
          "height": 74
        },
        "id": "noXUQCGXorrX",
        "outputId": "bd1daba7-f189-404e-9936-d09f6281ad83"
      },
      "source": [
        "from google.colab import files\n",
        "import io\n",
        "uploaded_train = files.upload()"
      ],
      "execution_count": 2,
      "outputs": [
        {
          "output_type": "display_data",
          "data": {
            "text/html": [
              "\n",
              "     <input type=\"file\" id=\"files-b5d4efb8-ac0a-4972-8338-e4d793c2b429\" name=\"files[]\" multiple disabled\n",
              "        style=\"border:none\" />\n",
              "     <output id=\"result-b5d4efb8-ac0a-4972-8338-e4d793c2b429\">\n",
              "      Upload widget is only available when the cell has been executed in the\n",
              "      current browser session. Please rerun this cell to enable.\n",
              "      </output>\n",
              "      <script src=\"/nbextensions/google.colab/files.js\"></script> "
            ],
            "text/plain": [
              "<IPython.core.display.HTML object>"
            ]
          },
          "metadata": {
            "tags": []
          }
        },
        {
          "output_type": "stream",
          "text": [
            "Saving train_preprocessed_2.csv to train_preprocessed_2.csv\n"
          ],
          "name": "stdout"
        }
      ]
    },
    {
      "cell_type": "markdown",
      "metadata": {
        "id": "0xJSKoY5tHRS"
      },
      "source": [
        "Upload the Training dataset, and shuffle as it becomes sectioned."
      ]
    },
    {
      "cell_type": "code",
      "metadata": {
        "id": "95Cbr5NztI4I"
      },
      "source": [
        "train = pd.read_csv(io.BytesIO(uploaded_train[\"train_preprocessed_2.csv\"]))\n",
        "train = train.sample(frac=1).reset_index(drop=True)\n",
        "\n",
        "X = train.drop(columns=[\"isbn\", \"review\", \"topic\", \"review_cleaned\"])\n",
        "y = train[\"topic\"]"
      ],
      "execution_count": 3,
      "outputs": []
    },
    {
      "cell_type": "markdown",
      "metadata": {
        "id": "GH1PZkCwtfid"
      },
      "source": [
        "And define the cross validated scorer function."
      ]
    },
    {
      "cell_type": "code",
      "metadata": {
        "id": "oEThnwRGtp5Z"
      },
      "source": [
        "def cross_score(model, k=10):\n",
        "    kf = StratifiedKFold(n_splits=k, shuffle=True)\n",
        "    scores = cross_val_score(model, X, y, cv=kf)\n",
        "    return np.mean(scores)"
      ],
      "execution_count": 4,
      "outputs": []
    },
    {
      "cell_type": "markdown",
      "metadata": {
        "id": "46BiZN245Ws8"
      },
      "source": [
        "### Common Label\n",
        "\n",
        "As we saw in the Data Exploration Analysis, the topic \"grandes-descuentos\" has the greatest number of samples. So an starting prediction is to assume every label belongs to it.\n",
        "\n",
        "We get an score of "
      ]
    },
    {
      "cell_type": "code",
      "metadata": {
        "colab": {
          "base_uri": "https://localhost:8080/"
        },
        "id": "-CoQHDs_5WUj",
        "outputId": "83a35838-4a3d-40c7-cc63-1f14e2d4cf7a"
      },
      "source": [
        "y_pred = [\"grandes-descuentos\" for i in range(len(y))]\n",
        "print(f\"Predicting with the common label has an accuracy of: {accuracy_score(y, y_pred):.2%}.\")"
      ],
      "execution_count": 5,
      "outputs": [
        {
          "output_type": "stream",
          "text": [
            "Predicting with the common label has an accuracy of: 41.79%.\n"
          ],
          "name": "stdout"
        }
      ]
    },
    {
      "cell_type": "markdown",
      "metadata": {
        "id": "vslyx9Imt29Y"
      },
      "source": [
        "## Base Models"
      ]
    },
    {
      "cell_type": "markdown",
      "metadata": {
        "id": "HkYo8frHuD9-"
      },
      "source": [
        "We are going to use various simple predictors provided by Scikit Learn and Tensorflow. \n",
        "\n",
        "The choice of hyperparameters was done using Optuna package and Google servers for about 5-10 hours for each model."
      ]
    },
    {
      "cell_type": "markdown",
      "metadata": {
        "id": "ENQ0vPftvbFb"
      },
      "source": [
        "Random Forest."
      ]
    },
    {
      "cell_type": "code",
      "metadata": {
        "colab": {
          "base_uri": "https://localhost:8080/"
        },
        "id": "tKRHgf7avZGq",
        "outputId": "ffff656c-bf37-4a96-c1b4-983296abaa3a"
      },
      "source": [
        "ovr_rfc = OneVsRestClassifier(RandomForestClassifier(**{\n",
        "    'n_estimators': 334,\n",
        "    'criterion': 'entropy',\n",
        "    'max_depth': 42,\n",
        "    'min_samples_split': 9,\n",
        "    'min_samples_leaf': 4,\n",
        "    'max_features': 0.45448755763486154\n",
        "}))\n",
        "\n",
        "acc = cross_score(ovr_rfc)\n",
        "\n",
        "print(f\"Random Forest Classifier has an accuracy of {acc:.2%}\")"
      ],
      "execution_count": 6,
      "outputs": [
        {
          "output_type": "stream",
          "text": [
            "Random Forest Classifier has an accuracy of 68.04%\n"
          ],
          "name": "stdout"
        }
      ]
    },
    {
      "cell_type": "markdown",
      "metadata": {
        "id": "nHPCOkjqvw1K"
      },
      "source": [
        "Logistic Regression."
      ]
    },
    {
      "cell_type": "code",
      "metadata": {
        "colab": {
          "base_uri": "https://localhost:8080/"
        },
        "id": "N9LUxR7ivvAN",
        "outputId": "341cfa8a-8a96-4368-eeb2-abb6579a7e30"
      },
      "source": [
        "logreg = make_pipeline(StandardScaler(), MinMaxScaler(), LogisticRegression(\n",
        "    C=8.261486231908338,\n",
        "    tol=0.8728213920467933,\n",
        "    intercept_scaling=9.117615728181427,\n",
        "    multi_class=\"multinomial\",\n",
        "    max_iter=10_000\n",
        "))\n",
        "\n",
        "acc = cross_score(logreg)\n",
        "\n",
        "print(f\"Logistic Regression has an accuracy of {acc:.2%}\")"
      ],
      "execution_count": 7,
      "outputs": [
        {
          "output_type": "stream",
          "text": [
            "Logistic Regression has an accuracy of 66.24%\n"
          ],
          "name": "stdout"
        }
      ]
    },
    {
      "cell_type": "markdown",
      "metadata": {
        "id": "Wtk4Ywbmv1zt"
      },
      "source": [
        "XGBoost."
      ]
    },
    {
      "cell_type": "code",
      "metadata": {
        "colab": {
          "base_uri": "https://localhost:8080/"
        },
        "id": "lwtaRxAev0X9",
        "outputId": "0be474f8-96c0-4a53-c708-9a25694b7385"
      },
      "source": [
        "ovr_xgb = OneVsRestClassifier(XGBClassifier(**{\n",
        "    'n_estimators': 378,\n",
        "    'learning_rate': 0.02950073992817461,\n",
        "    'base_score': 0.9187179242725662,\n",
        "    'verbosity': 0,\n",
        "    'use_label_encoder': False\n",
        "}))\n",
        "\n",
        "acc = cross_score(ovr_xgb)\n",
        "\n",
        "print(f\"XGBoost Classifier has an accuracy of {acc:.2%}\")"
      ],
      "execution_count": 8,
      "outputs": [
        {
          "output_type": "stream",
          "text": [
            "XGBoost Classifier has an accuracy of 68.12%\n"
          ],
          "name": "stdout"
        }
      ]
    },
    {
      "cell_type": "markdown",
      "metadata": {
        "id": "SDnh4gb0v7Ze"
      },
      "source": [
        "Light GBoost"
      ]
    },
    {
      "cell_type": "code",
      "metadata": {
        "colab": {
          "base_uri": "https://localhost:8080/"
        },
        "id": "vW1XlQITv-GJ",
        "outputId": "b6fdd221-e7bd-4c2f-c50d-1715bf3d0042"
      },
      "source": [
        "lgb = LGBMClassifier(**{\n",
        "    'num_leaves': 27,\n",
        "    'n_estimators': 268,\n",
        "    'learning_rate': 0.018813923117324143\n",
        "})\n",
        "\n",
        "acc = cross_score(lgb)\n",
        "\n",
        "print(f\"Light GBoost has an accuracy of {acc:.2%}\")"
      ],
      "execution_count": 9,
      "outputs": [
        {
          "output_type": "stream",
          "text": [
            "Light GBoost has an accuracy of 66.73%\n"
          ],
          "name": "stdout"
        }
      ]
    },
    {
      "cell_type": "markdown",
      "metadata": {
        "id": "PRCWb0PUwCwX"
      },
      "source": [
        "Cat Boost"
      ]
    },
    {
      "cell_type": "code",
      "metadata": {
        "colab": {
          "base_uri": "https://localhost:8080/"
        },
        "id": "xLOXGbTDwEFC",
        "outputId": "99a538bb-618a-4f16-ba67-18abd5fb7f22"
      },
      "source": [
        "ovr_cat = OneVsRestClassifier(CatBoostClassifier(**{\n",
        "    'iterations': 330,\n",
        "    'learning_rate': 0.043379595491767745,\n",
        "    'depth': 7,\n",
        "    'l2_leaf_reg': 0.5416613355579589,\n",
        "    'border_count': 212,\n",
        "    'loss_function': 'MultiClass',\n",
        "    'verbose': False\n",
        "}))\n",
        "\n",
        "acc = cross_score(ovr_cat)\n",
        "\n",
        "print(f\"Cat Boost Classifier has an accuracy of {acc:.2%}\")"
      ],
      "execution_count": 10,
      "outputs": [
        {
          "output_type": "stream",
          "text": [
            "Cat Boost Classifier has an accuracy of 67.71%\n"
          ],
          "name": "stdout"
        }
      ]
    },
    {
      "cell_type": "markdown",
      "metadata": {
        "id": "oa71a5bRwGI2"
      },
      "source": [
        "Forward Network."
      ]
    },
    {
      "cell_type": "code",
      "metadata": {
        "colab": {
          "base_uri": "https://localhost:8080/"
        },
        "id": "0ZThaZpKwJ9b",
        "outputId": "11532db3-34e7-4ca2-be77-816a43e7c085"
      },
      "source": [
        "class NetworkClassifier(BaseEstimator, ClassifierMixin):\n",
        "    def __init__(self, ini_neurons=60, optimizer=\"adam\", epochs=200, validation_split=0.3):\n",
        "        self.ini_neurons = ini_neurons\n",
        "        self.optimizer = optimizer\n",
        "        self.epochs = epochs\n",
        "        self.validation_split = validation_split\n",
        "        self.model = Sequential()\n",
        "\n",
        "    def fit(self, X, y):\n",
        "        y_enc = pd.get_dummies(y)\n",
        "        self.cols = y_enc.columns\n",
        "        y_np = y_enc.to_numpy()\n",
        "        X_np = X.to_numpy()\n",
        "        self.model.add(Dense(self.ini_neurons, input_shape=(X.shape[1], ), activation=\"relu\"))\n",
        "        self.model.add(Dense(13, activation=\"softmax\"))\n",
        "        self.model.compile(\n",
        "            optimizer=self.optimizer, loss=\"categorical_crossentropy\", metrics=[\"accuracy\"]\n",
        "        )\n",
        "        self.model.fit(\n",
        "            X_np, y_np, epochs=self.epochs, validation_split=self.validation_split, verbose=0\n",
        "        )\n",
        "        return self\n",
        "\n",
        "    def predict(self, X):\n",
        "        X_np = X.to_numpy()\n",
        "        y_hat = self.model.predict(X_np)\n",
        "        y_df = pd.DataFrame(data=y_hat, columns=self.cols)\n",
        "        y_pred = y_df.idxmax(axis=1)\n",
        "        return y_pred\n",
        "\n",
        "nc = NetworkClassifier()\n",
        "\n",
        "acc = cross_score(nc, k=6)\n",
        "\n",
        "print(f\"Network Classifier has an accuracy of {acc:.2%}\")"
      ],
      "execution_count": 11,
      "outputs": [
        {
          "output_type": "stream",
          "text": [
            "Network Classifier has an accuracy of 65.75%\n"
          ],
          "name": "stdout"
        }
      ]
    },
    {
      "cell_type": "markdown",
      "metadata": {
        "id": "IGIqkz8DwSEP"
      },
      "source": [
        "# Weighted Voting Model"
      ]
    },
    {
      "cell_type": "markdown",
      "metadata": {
        "id": "k0Wo_sggxVMz"
      },
      "source": [
        "One simple way to combine and (posible) improve your predictions, is building a voting classifier. Each Estimator makes its own prediction, and then we save the most voted label. Also, one can put weights on each estimator, to favor it over the others, and get an overall improved prediction.\n",
        "\n",
        "Again, the weights were chosen using Optuna searching functions."
      ]
    },
    {
      "cell_type": "markdown",
      "metadata": {
        "id": "WBaovUkqzX-H"
      },
      "source": [
        "Define and call the Weighted Averaging Estimator class."
      ]
    },
    {
      "cell_type": "code",
      "metadata": {
        "id": "s_XYJzBvwQ5-"
      },
      "source": [
        "class WeightedAveragingEstimator(BaseEstimator, ClassifierMixin):\n",
        "    def __init__(self, models, weights=None):\n",
        "        self.models = models\n",
        "        self.weights = weights\n",
        "\n",
        "    def fit(self, X, y):\n",
        "        self.cols = pd.get_dummies(y).columns\n",
        "\n",
        "        self.models_ = [clone(x) for x in self.models]\n",
        "\n",
        "        for model in self.models_:\n",
        "            model.fit(X, y)\n",
        "\n",
        "        return self\n",
        "\n",
        "    def predict(self, X):\n",
        "        sum = pd.DataFrame(dtype=float, columns=self.cols)\n",
        "        for i, model in enumerate(self.models_):\n",
        "            y_pred_ = model.predict(X)\n",
        "            y_hat = self.weights[i] * pd.get_dummies(y_pred_)\n",
        "            sum = sum.add(y_hat, fill_value=0)\n",
        "\n",
        "        sum.fillna(value=0)\n",
        "        y_pred = sum.idxmax(axis=1)\n",
        "        return y_pred\n",
        "\n",
        "models = (\n",
        "    OneVsRestClassifier(RandomForestClassifier(**{\n",
        "        'n_estimators': 334,\n",
        "        'criterion': 'entropy',\n",
        "        'max_depth': 42,\n",
        "        'min_samples_split': 9,\n",
        "        'min_samples_leaf': 4,\n",
        "        'max_features': 0.45448755763486154\n",
        "    })),\n",
        "    make_pipeline(StandardScaler(), MinMaxScaler(), LogisticRegression(\n",
        "        C=8.261486231908338,\n",
        "        tol=0.8728213920467933,\n",
        "        intercept_scaling=9.117615728181427,\n",
        "        multi_class=\"multinomial\",\n",
        "        max_iter=10_000\n",
        "    )),\n",
        "    OneVsRestClassifier(XGBClassifier(**{\n",
        "        'n_estimators': 378,\n",
        "        'learning_rate': 0.02950073992817461,\n",
        "        'base_score': 0.9187179242725662,\n",
        "        'verbosity': 0,\n",
        "        'use_label_encoder': False\n",
        "    })),\n",
        "    LGBMClassifier(**{\n",
        "        'num_leaves': 27,\n",
        "        'n_estimators': 268,\n",
        "        'learning_rate': 0.018813923117324143\n",
        "    }),\n",
        "    OneVsRestClassifier(CatBoostClassifier(**{\n",
        "        'iterations': 330,\n",
        "        'learning_rate': 0.043379595491767745,\n",
        "        'depth': 7,\n",
        "        'l2_leaf_reg': 0.5416613355579589,\n",
        "        'border_count': 212,\n",
        "        'loss_function': 'MultiClass',\n",
        "        'verbose': False\n",
        "    })),\n",
        "    NetworkClassifier()\n",
        ")\n",
        "weights = [0.599, 0.781, 0.76, 0.425, 0.678, 0.449]\n",
        "\n",
        "wae = WeightedAveragingEstimator(models=models, weights=weights)"
      ],
      "execution_count": 12,
      "outputs": []
    },
    {
      "cell_type": "markdown",
      "metadata": {
        "id": "2gZWgYUj0DMa"
      },
      "source": [
        "WAE gets an score of"
      ]
    },
    {
      "cell_type": "code",
      "metadata": {
        "id": "IXMpoYBX0CwU",
        "colab": {
          "base_uri": "https://localhost:8080/"
        },
        "outputId": "ff51adf0-a8ba-406d-efbf-47613814880a"
      },
      "source": [
        "acc = cross_score(wae, k=6)\n",
        "\n",
        "print(f\"Weighted Averaging Estimator has an accuracy of {acc:.2%}\")"
      ],
      "execution_count": 13,
      "outputs": [
        {
          "output_type": "stream",
          "text": [
            "Weighted Averaging Estimator has an accuracy of 68.42%\n"
          ],
          "name": "stdout"
        }
      ]
    }
  ]
}
