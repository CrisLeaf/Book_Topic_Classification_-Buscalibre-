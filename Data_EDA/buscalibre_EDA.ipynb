{
  "nbformat": 4,
  "nbformat_minor": 0,
  "metadata": {
    "colab": {
      "name": "buscalibre_EDA.ipynb",
      "provenance": [],
      "collapsed_sections": []
    },
    "kernelspec": {
      "name": "python3",
      "display_name": "Python 3"
    },
    "language_info": {
      "name": "python"
    }
  },
  "cells": [
    {
      "cell_type": "markdown",
      "metadata": {
        "id": "XctDCTkXRcAc"
      },
      "source": [
        "# Buscalibre Data Analysis (For Topic Classification)\n",
        "\n",
        "Analysis for the data scrapped from buscalibre website. **We are only considering the non-text columns** for the exploratio. Eventually, one can build multiples Statistical Learning Models using different sources to predict the same, and hopefully getting a better result after stacking into a whole set."
      ]
    },
    {
      "cell_type": "markdown",
      "metadata": {
        "id": "yDQukDndJCET"
      },
      "source": [
        "## Data Import"
      ]
    },
    {
      "cell_type": "markdown",
      "metadata": {
        "id": "nUyIhX1XHFt_"
      },
      "source": [
        "Import the Initial Libraries."
      ]
    },
    {
      "cell_type": "code",
      "metadata": {
        "id": "oazCgYEMRU-l"
      },
      "source": [
        "import numpy as np\n",
        "import pandas as pd\n",
        "import matplotlib.pyplot as plt\n",
        "import seaborn as sns\n",
        "from scipy import stats\n",
        "from scipy.stats import skew\n",
        "sns.set_style(\"darkgrid\")\n",
        "sns.set_palette(\"Set2\", 10)\n",
        "palette = sns.color_palette(\"Set2\", 10)\n",
        "plt.style.use(\"seaborn\")"
      ],
      "execution_count": 1,
      "outputs": []
    },
    {
      "cell_type": "markdown",
      "metadata": {
        "id": "GQ9uddUmTzAe"
      },
      "source": [
        "Load the data (to a Google Colab Notebook)."
      ]
    },
    {
      "cell_type": "code",
      "metadata": {
        "colab": {
          "resources": {
            "http://localhost:8080/nbextensions/google.colab/files.js": {
              "data": "Ly8gQ29weXJpZ2h0IDIwMTcgR29vZ2xlIExMQwovLwovLyBMaWNlbnNlZCB1bmRlciB0aGUgQXBhY2hlIExpY2Vuc2UsIFZlcnNpb24gMi4wICh0aGUgIkxpY2Vuc2UiKTsKLy8geW91IG1heSBub3QgdXNlIHRoaXMgZmlsZSBleGNlcHQgaW4gY29tcGxpYW5jZSB3aXRoIHRoZSBMaWNlbnNlLgovLyBZb3UgbWF5IG9idGFpbiBhIGNvcHkgb2YgdGhlIExpY2Vuc2UgYXQKLy8KLy8gICAgICBodHRwOi8vd3d3LmFwYWNoZS5vcmcvbGljZW5zZXMvTElDRU5TRS0yLjAKLy8KLy8gVW5sZXNzIHJlcXVpcmVkIGJ5IGFwcGxpY2FibGUgbGF3IG9yIGFncmVlZCB0byBpbiB3cml0aW5nLCBzb2Z0d2FyZQovLyBkaXN0cmlidXRlZCB1bmRlciB0aGUgTGljZW5zZSBpcyBkaXN0cmlidXRlZCBvbiBhbiAiQVMgSVMiIEJBU0lTLAovLyBXSVRIT1VUIFdBUlJBTlRJRVMgT1IgQ09ORElUSU9OUyBPRiBBTlkgS0lORCwgZWl0aGVyIGV4cHJlc3Mgb3IgaW1wbGllZC4KLy8gU2VlIHRoZSBMaWNlbnNlIGZvciB0aGUgc3BlY2lmaWMgbGFuZ3VhZ2UgZ292ZXJuaW5nIHBlcm1pc3Npb25zIGFuZAovLyBsaW1pdGF0aW9ucyB1bmRlciB0aGUgTGljZW5zZS4KCi8qKgogKiBAZmlsZW92ZXJ2aWV3IEhlbHBlcnMgZm9yIGdvb2dsZS5jb2xhYiBQeXRob24gbW9kdWxlLgogKi8KKGZ1bmN0aW9uKHNjb3BlKSB7CmZ1bmN0aW9uIHNwYW4odGV4dCwgc3R5bGVBdHRyaWJ1dGVzID0ge30pIHsKICBjb25zdCBlbGVtZW50ID0gZG9jdW1lbnQuY3JlYXRlRWxlbWVudCgnc3BhbicpOwogIGVsZW1lbnQudGV4dENvbnRlbnQgPSB0ZXh0OwogIGZvciAoY29uc3Qga2V5IG9mIE9iamVjdC5rZXlzKHN0eWxlQXR0cmlidXRlcykpIHsKICAgIGVsZW1lbnQuc3R5bGVba2V5XSA9IHN0eWxlQXR0cmlidXRlc1trZXldOwogIH0KICByZXR1cm4gZWxlbWVudDsKfQoKLy8gTWF4IG51bWJlciBvZiBieXRlcyB3aGljaCB3aWxsIGJlIHVwbG9hZGVkIGF0IGEgdGltZS4KY29uc3QgTUFYX1BBWUxPQURfU0laRSA9IDEwMCAqIDEwMjQ7CgpmdW5jdGlvbiBfdXBsb2FkRmlsZXMoaW5wdXRJZCwgb3V0cHV0SWQpIHsKICBjb25zdCBzdGVwcyA9IHVwbG9hZEZpbGVzU3RlcChpbnB1dElkLCBvdXRwdXRJZCk7CiAgY29uc3Qgb3V0cHV0RWxlbWVudCA9IGRvY3VtZW50LmdldEVsZW1lbnRCeUlkKG91dHB1dElkKTsKICAvLyBDYWNoZSBzdGVwcyBvbiB0aGUgb3V0cHV0RWxlbWVudCB0byBtYWtlIGl0IGF2YWlsYWJsZSBmb3IgdGhlIG5leHQgY2FsbAogIC8vIHRvIHVwbG9hZEZpbGVzQ29udGludWUgZnJvbSBQeXRob24uCiAgb3V0cHV0RWxlbWVudC5zdGVwcyA9IHN0ZXBzOwoKICByZXR1cm4gX3VwbG9hZEZpbGVzQ29udGludWUob3V0cHV0SWQpOwp9CgovLyBUaGlzIGlzIHJvdWdobHkgYW4gYXN5bmMgZ2VuZXJhdG9yIChub3Qgc3VwcG9ydGVkIGluIHRoZSBicm93c2VyIHlldCksCi8vIHdoZXJlIHRoZXJlIGFyZSBtdWx0aXBsZSBhc3luY2hyb25vdXMgc3RlcHMgYW5kIHRoZSBQeXRob24gc2lkZSBpcyBnb2luZwovLyB0byBwb2xsIGZvciBjb21wbGV0aW9uIG9mIGVhY2ggc3RlcC4KLy8gVGhpcyB1c2VzIGEgUHJvbWlzZSB0byBibG9jayB0aGUgcHl0aG9uIHNpZGUgb24gY29tcGxldGlvbiBvZiBlYWNoIHN0ZXAsCi8vIHRoZW4gcGFzc2VzIHRoZSByZXN1bHQgb2YgdGhlIHByZXZpb3VzIHN0ZXAgYXMgdGhlIGlucHV0IHRvIHRoZSBuZXh0IHN0ZXAuCmZ1bmN0aW9uIF91cGxvYWRGaWxlc0NvbnRpbnVlKG91dHB1dElkKSB7CiAgY29uc3Qgb3V0cHV0RWxlbWVudCA9IGRvY3VtZW50LmdldEVsZW1lbnRCeUlkKG91dHB1dElkKTsKICBjb25zdCBzdGVwcyA9IG91dHB1dEVsZW1lbnQuc3RlcHM7CgogIGNvbnN0IG5leHQgPSBzdGVwcy5uZXh0KG91dHB1dEVsZW1lbnQubGFzdFByb21pc2VWYWx1ZSk7CiAgcmV0dXJuIFByb21pc2UucmVzb2x2ZShuZXh0LnZhbHVlLnByb21pc2UpLnRoZW4oKHZhbHVlKSA9PiB7CiAgICAvLyBDYWNoZSB0aGUgbGFzdCBwcm9taXNlIHZhbHVlIHRvIG1ha2UgaXQgYXZhaWxhYmxlIHRvIHRoZSBuZXh0CiAgICAvLyBzdGVwIG9mIHRoZSBnZW5lcmF0b3IuCiAgICBvdXRwdXRFbGVtZW50Lmxhc3RQcm9taXNlVmFsdWUgPSB2YWx1ZTsKICAgIHJldHVybiBuZXh0LnZhbHVlLnJlc3BvbnNlOwogIH0pOwp9CgovKioKICogR2VuZXJhdG9yIGZ1bmN0aW9uIHdoaWNoIGlzIGNhbGxlZCBiZXR3ZWVuIGVhY2ggYXN5bmMgc3RlcCBvZiB0aGUgdXBsb2FkCiAqIHByb2Nlc3MuCiAqIEBwYXJhbSB7c3RyaW5nfSBpbnB1dElkIEVsZW1lbnQgSUQgb2YgdGhlIGlucHV0IGZpbGUgcGlja2VyIGVsZW1lbnQuCiAqIEBwYXJhbSB7c3RyaW5nfSBvdXRwdXRJZCBFbGVtZW50IElEIG9mIHRoZSBvdXRwdXQgZGlzcGxheS4KICogQHJldHVybiB7IUl0ZXJhYmxlPCFPYmplY3Q+fSBJdGVyYWJsZSBvZiBuZXh0IHN0ZXBzLgogKi8KZnVuY3Rpb24qIHVwbG9hZEZpbGVzU3RlcChpbnB1dElkLCBvdXRwdXRJZCkgewogIGNvbnN0IGlucHV0RWxlbWVudCA9IGRvY3VtZW50LmdldEVsZW1lbnRCeUlkKGlucHV0SWQpOwogIGlucHV0RWxlbWVudC5kaXNhYmxlZCA9IGZhbHNlOwoKICBjb25zdCBvdXRwdXRFbGVtZW50ID0gZG9jdW1lbnQuZ2V0RWxlbWVudEJ5SWQob3V0cHV0SWQpOwogIG91dHB1dEVsZW1lbnQuaW5uZXJIVE1MID0gJyc7CgogIGNvbnN0IHBpY2tlZFByb21pc2UgPSBuZXcgUHJvbWlzZSgocmVzb2x2ZSkgPT4gewogICAgaW5wdXRFbGVtZW50LmFkZEV2ZW50TGlzdGVuZXIoJ2NoYW5nZScsIChlKSA9PiB7CiAgICAgIHJlc29sdmUoZS50YXJnZXQuZmlsZXMpOwogICAgfSk7CiAgfSk7CgogIGNvbnN0IGNhbmNlbCA9IGRvY3VtZW50LmNyZWF0ZUVsZW1lbnQoJ2J1dHRvbicpOwogIGlucHV0RWxlbWVudC5wYXJlbnRFbGVtZW50LmFwcGVuZENoaWxkKGNhbmNlbCk7CiAgY2FuY2VsLnRleHRDb250ZW50ID0gJ0NhbmNlbCB1cGxvYWQnOwogIGNvbnN0IGNhbmNlbFByb21pc2UgPSBuZXcgUHJvbWlzZSgocmVzb2x2ZSkgPT4gewogICAgY2FuY2VsLm9uY2xpY2sgPSAoKSA9PiB7CiAgICAgIHJlc29sdmUobnVsbCk7CiAgICB9OwogIH0pOwoKICAvLyBXYWl0IGZvciB0aGUgdXNlciB0byBwaWNrIHRoZSBmaWxlcy4KICBjb25zdCBmaWxlcyA9IHlpZWxkIHsKICAgIHByb21pc2U6IFByb21pc2UucmFjZShbcGlja2VkUHJvbWlzZSwgY2FuY2VsUHJvbWlzZV0pLAogICAgcmVzcG9uc2U6IHsKICAgICAgYWN0aW9uOiAnc3RhcnRpbmcnLAogICAgfQogIH07CgogIGNhbmNlbC5yZW1vdmUoKTsKCiAgLy8gRGlzYWJsZSB0aGUgaW5wdXQgZWxlbWVudCBzaW5jZSBmdXJ0aGVyIHBpY2tzIGFyZSBub3QgYWxsb3dlZC4KICBpbnB1dEVsZW1lbnQuZGlzYWJsZWQgPSB0cnVlOwoKICBpZiAoIWZpbGVzKSB7CiAgICByZXR1cm4gewogICAgICByZXNwb25zZTogewogICAgICAgIGFjdGlvbjogJ2NvbXBsZXRlJywKICAgICAgfQogICAgfTsKICB9CgogIGZvciAoY29uc3QgZmlsZSBvZiBmaWxlcykgewogICAgY29uc3QgbGkgPSBkb2N1bWVudC5jcmVhdGVFbGVtZW50KCdsaScpOwogICAgbGkuYXBwZW5kKHNwYW4oZmlsZS5uYW1lLCB7Zm9udFdlaWdodDogJ2JvbGQnfSkpOwogICAgbGkuYXBwZW5kKHNwYW4oCiAgICAgICAgYCgke2ZpbGUudHlwZSB8fCAnbi9hJ30pIC0gJHtmaWxlLnNpemV9IGJ5dGVzLCBgICsKICAgICAgICBgbGFzdCBtb2RpZmllZDogJHsKICAgICAgICAgICAgZmlsZS5sYXN0TW9kaWZpZWREYXRlID8gZmlsZS5sYXN0TW9kaWZpZWREYXRlLnRvTG9jYWxlRGF0ZVN0cmluZygpIDoKICAgICAgICAgICAgICAgICAgICAgICAgICAgICAgICAgICAgJ24vYSd9IC0gYCkpOwogICAgY29uc3QgcGVyY2VudCA9IHNwYW4oJzAlIGRvbmUnKTsKICAgIGxpLmFwcGVuZENoaWxkKHBlcmNlbnQpOwoKICAgIG91dHB1dEVsZW1lbnQuYXBwZW5kQ2hpbGQobGkpOwoKICAgIGNvbnN0IGZpbGVEYXRhUHJvbWlzZSA9IG5ldyBQcm9taXNlKChyZXNvbHZlKSA9PiB7CiAgICAgIGNvbnN0IHJlYWRlciA9IG5ldyBGaWxlUmVhZGVyKCk7CiAgICAgIHJlYWRlci5vbmxvYWQgPSAoZSkgPT4gewogICAgICAgIHJlc29sdmUoZS50YXJnZXQucmVzdWx0KTsKICAgICAgfTsKICAgICAgcmVhZGVyLnJlYWRBc0FycmF5QnVmZmVyKGZpbGUpOwogICAgfSk7CiAgICAvLyBXYWl0IGZvciB0aGUgZGF0YSB0byBiZSByZWFkeS4KICAgIGxldCBmaWxlRGF0YSA9IHlpZWxkIHsKICAgICAgcHJvbWlzZTogZmlsZURhdGFQcm9taXNlLAogICAgICByZXNwb25zZTogewogICAgICAgIGFjdGlvbjogJ2NvbnRpbnVlJywKICAgICAgfQogICAgfTsKCiAgICAvLyBVc2UgYSBjaHVua2VkIHNlbmRpbmcgdG8gYXZvaWQgbWVzc2FnZSBzaXplIGxpbWl0cy4gU2VlIGIvNjIxMTU2NjAuCiAgICBsZXQgcG9zaXRpb24gPSAwOwogICAgZG8gewogICAgICBjb25zdCBsZW5ndGggPSBNYXRoLm1pbihmaWxlRGF0YS5ieXRlTGVuZ3RoIC0gcG9zaXRpb24sIE1BWF9QQVlMT0FEX1NJWkUpOwogICAgICBjb25zdCBjaHVuayA9IG5ldyBVaW50OEFycmF5KGZpbGVEYXRhLCBwb3NpdGlvbiwgbGVuZ3RoKTsKICAgICAgcG9zaXRpb24gKz0gbGVuZ3RoOwoKICAgICAgY29uc3QgYmFzZTY0ID0gYnRvYShTdHJpbmcuZnJvbUNoYXJDb2RlLmFwcGx5KG51bGwsIGNodW5rKSk7CiAgICAgIHlpZWxkIHsKICAgICAgICByZXNwb25zZTogewogICAgICAgICAgYWN0aW9uOiAnYXBwZW5kJywKICAgICAgICAgIGZpbGU6IGZpbGUubmFtZSwKICAgICAgICAgIGRhdGE6IGJhc2U2NCwKICAgICAgICB9LAogICAgICB9OwoKICAgICAgbGV0IHBlcmNlbnREb25lID0gZmlsZURhdGEuYnl0ZUxlbmd0aCA9PT0gMCA/CiAgICAgICAgICAxMDAgOgogICAgICAgICAgTWF0aC5yb3VuZCgocG9zaXRpb24gLyBmaWxlRGF0YS5ieXRlTGVuZ3RoKSAqIDEwMCk7CiAgICAgIHBlcmNlbnQudGV4dENvbnRlbnQgPSBgJHtwZXJjZW50RG9uZX0lIGRvbmVgOwoKICAgIH0gd2hpbGUgKHBvc2l0aW9uIDwgZmlsZURhdGEuYnl0ZUxlbmd0aCk7CiAgfQoKICAvLyBBbGwgZG9uZS4KICB5aWVsZCB7CiAgICByZXNwb25zZTogewogICAgICBhY3Rpb246ICdjb21wbGV0ZScsCiAgICB9CiAgfTsKfQoKc2NvcGUuZ29vZ2xlID0gc2NvcGUuZ29vZ2xlIHx8IHt9OwpzY29wZS5nb29nbGUuY29sYWIgPSBzY29wZS5nb29nbGUuY29sYWIgfHwge307CnNjb3BlLmdvb2dsZS5jb2xhYi5fZmlsZXMgPSB7CiAgX3VwbG9hZEZpbGVzLAogIF91cGxvYWRGaWxlc0NvbnRpbnVlLAp9Owp9KShzZWxmKTsK",
              "ok": true,
              "headers": [
                [
                  "content-type",
                  "application/javascript"
                ]
              ],
              "status": 200,
              "status_text": ""
            }
          },
          "base_uri": "https://localhost:8080/",
          "height": 127
        },
        "id": "ZFgYrNMaSva4",
        "outputId": "8da78149-86b7-4385-b470-6701245af7a2"
      },
      "source": [
        "from google.colab import files\n",
        "import io\n",
        "uploaded_train = files.upload()\n",
        "uploaded_test = files.upload()"
      ],
      "execution_count": 2,
      "outputs": [
        {
          "output_type": "display_data",
          "data": {
            "text/html": [
              "\n",
              "     <input type=\"file\" id=\"files-b868c39a-e4d2-47d7-b093-035ad5d634ea\" name=\"files[]\" multiple disabled\n",
              "        style=\"border:none\" />\n",
              "     <output id=\"result-b868c39a-e4d2-47d7-b093-035ad5d634ea\">\n",
              "      Upload widget is only available when the cell has been executed in the\n",
              "      current browser session. Please rerun this cell to enable.\n",
              "      </output>\n",
              "      <script src=\"/nbextensions/google.colab/files.js\"></script> "
            ],
            "text/plain": [
              "<IPython.core.display.HTML object>"
            ]
          },
          "metadata": {
            "tags": []
          }
        },
        {
          "output_type": "stream",
          "text": [
            "Saving train.csv to train.csv\n"
          ],
          "name": "stdout"
        },
        {
          "output_type": "display_data",
          "data": {
            "text/html": [
              "\n",
              "     <input type=\"file\" id=\"files-87ce5076-4dd4-4bd1-b18b-496471c60ebb\" name=\"files[]\" multiple disabled\n",
              "        style=\"border:none\" />\n",
              "     <output id=\"result-87ce5076-4dd4-4bd1-b18b-496471c60ebb\">\n",
              "      Upload widget is only available when the cell has been executed in the\n",
              "      current browser session. Please rerun this cell to enable.\n",
              "      </output>\n",
              "      <script src=\"/nbextensions/google.colab/files.js\"></script> "
            ],
            "text/plain": [
              "<IPython.core.display.HTML object>"
            ]
          },
          "metadata": {
            "tags": []
          }
        },
        {
          "output_type": "stream",
          "text": [
            "Saving test.csv to test.csv\n"
          ],
          "name": "stdout"
        }
      ]
    },
    {
      "cell_type": "markdown",
      "metadata": {
        "id": "L2Asc3QNHahe"
      },
      "source": [
        "Define the Training and Test set (**we are dropping the test target column** to prevent information leakage)."
      ]
    },
    {
      "cell_type": "code",
      "metadata": {
        "id": "venrkzvMQ-Ae"
      },
      "source": [
        "train = pd.read_csv(io.BytesIO(uploaded_train[\"train.csv\"]))\n",
        "test = pd.read_csv(io.BytesIO(uploaded_test[\"test.csv\"])).drop(columns=\"topic\")"
      ],
      "execution_count": 3,
      "outputs": []
    },
    {
      "cell_type": "markdown",
      "metadata": {
        "id": "-Q6AGT-oUGpI"
      },
      "source": [
        "Check both dataset's shape and five firsts rows."
      ]
    },
    {
      "cell_type": "code",
      "metadata": {
        "colab": {
          "base_uri": "https://localhost:8080/",
          "height": 306
        },
        "id": "ZVzcWa6nXoGX",
        "outputId": "13736d98-7922-4d9d-9b2f-8ac3780d330d"
      },
      "source": [
        "print(f\"Training Set shape: {train.shape}\")\n",
        "train.head()"
      ],
      "execution_count": 4,
      "outputs": [
        {
          "output_type": "stream",
          "text": [
            "Training Set shape: (2937, 12)\n"
          ],
          "name": "stdout"
        },
        {
          "output_type": "execute_result",
          "data": {
            "text/html": [
              "<div>\n",
              "<style scoped>\n",
              "    .dataframe tbody tr th:only-of-type {\n",
              "        vertical-align: middle;\n",
              "    }\n",
              "\n",
              "    .dataframe tbody tr th {\n",
              "        vertical-align: top;\n",
              "    }\n",
              "\n",
              "    .dataframe thead th {\n",
              "        text-align: right;\n",
              "    }\n",
              "</style>\n",
              "<table border=\"1\" class=\"dataframe\">\n",
              "  <thead>\n",
              "    <tr style=\"text-align: right;\">\n",
              "      <th></th>\n",
              "      <th>isbn</th>\n",
              "      <th>name</th>\n",
              "      <th>author</th>\n",
              "      <th>publisher</th>\n",
              "      <th>year</th>\n",
              "      <th>language</th>\n",
              "      <th>pages</th>\n",
              "      <th>format</th>\n",
              "      <th>review</th>\n",
              "      <th>price</th>\n",
              "      <th>url</th>\n",
              "      <th>topic</th>\n",
              "    </tr>\n",
              "  </thead>\n",
              "  <tbody>\n",
              "    <tr>\n",
              "      <th>0</th>\n",
              "      <td>9789563606843</td>\n",
              "      <td>Tu cabeza te engaña</td>\n",
              "      <td>Pamela nuñez</td>\n",
              "      <td>Planeta</td>\n",
              "      <td>2019.0</td>\n",
              "      <td>Español</td>\n",
              "      <td>104.0</td>\n",
              "      <td>Libro físico</td>\n",
              "      <td>¿Te ha pasado que los días previos a un evento...</td>\n",
              "      <td>8420</td>\n",
              "      <td>https://www.buscalibre.cl/libro-tu-cabeza-te-e...</td>\n",
              "      <td>espiritualidad-y-auto-ayuda</td>\n",
              "    </tr>\n",
              "    <tr>\n",
              "      <th>1</th>\n",
              "      <td>9789563608595</td>\n",
              "      <td>Nutrición emocional</td>\n",
              "      <td>Fran sabal</td>\n",
              "      <td>Planeta</td>\n",
              "      <td>2021.0</td>\n",
              "      <td>Español</td>\n",
              "      <td>270.0</td>\n",
              "      <td>Libro físico</td>\n",
              "      <td>¿Por qué el crecimiento personal es clave a la...</td>\n",
              "      <td>11820</td>\n",
              "      <td>https://www.buscalibre.cl/libro-nutricion-emoc...</td>\n",
              "      <td>espiritualidad-y-auto-ayuda</td>\n",
              "    </tr>\n",
              "    <tr>\n",
              "      <th>2</th>\n",
              "      <td>9789563609271</td>\n",
              "      <td>Historia de un milagro</td>\n",
              "      <td>Cristián arriagada</td>\n",
              "      <td>Planeta</td>\n",
              "      <td>2021.0</td>\n",
              "      <td>Español</td>\n",
              "      <td>140.0</td>\n",
              "      <td>Libro físico</td>\n",
              "      <td>El año 2019, la periodista Javiera Suárez dejó...</td>\n",
              "      <td>10970</td>\n",
              "      <td>https://www.buscalibre.cl/libro-historia-de-un...</td>\n",
              "      <td>espiritualidad-y-auto-ayuda</td>\n",
              "    </tr>\n",
              "    <tr>\n",
              "      <th>3</th>\n",
              "      <td>9789501519914</td>\n",
              "      <td>La Inteligencia Emocional</td>\n",
              "      <td>Daniel goleman</td>\n",
              "      <td>Vergara</td>\n",
              "      <td>2004.0</td>\n",
              "      <td>Español</td>\n",
              "      <td>397.0</td>\n",
              "      <td>Libro físico</td>\n",
              "      <td>En este fascinante y persuasivo libro, Daniel ...</td>\n",
              "      <td>11050</td>\n",
              "      <td>https://www.buscalibre.cl/libro-la-inteligenci...</td>\n",
              "      <td>espiritualidad-y-auto-ayuda</td>\n",
              "    </tr>\n",
              "    <tr>\n",
              "      <th>4</th>\n",
              "      <td>9789502805924</td>\n",
              "      <td>Poder del Ahora, el</td>\n",
              "      <td>Tolle eckhart</td>\n",
              "      <td>Grijalbo</td>\n",
              "      <td>2000.0</td>\n",
              "      <td>Español</td>\n",
              "      <td>256.0</td>\n",
              "      <td>Libro físico</td>\n",
              "      <td>El poder del ahora es un libro único. Tiene la...</td>\n",
              "      <td>13600</td>\n",
              "      <td>https://www.buscalibre.cl/libro-poder-del-ahor...</td>\n",
              "      <td>espiritualidad-y-auto-ayuda</td>\n",
              "    </tr>\n",
              "  </tbody>\n",
              "</table>\n",
              "</div>"
            ],
            "text/plain": [
              "            isbn  ...                        topic\n",
              "0  9789563606843  ...  espiritualidad-y-auto-ayuda\n",
              "1  9789563608595  ...  espiritualidad-y-auto-ayuda\n",
              "2  9789563609271  ...  espiritualidad-y-auto-ayuda\n",
              "3  9789501519914  ...  espiritualidad-y-auto-ayuda\n",
              "4  9789502805924  ...  espiritualidad-y-auto-ayuda\n",
              "\n",
              "[5 rows x 12 columns]"
            ]
          },
          "metadata": {
            "tags": []
          },
          "execution_count": 4
        }
      ]
    },
    {
      "cell_type": "code",
      "metadata": {
        "colab": {
          "base_uri": "https://localhost:8080/",
          "height": 323
        },
        "id": "rLz5GkHmZYwh",
        "outputId": "8bff46f3-beeb-4e61-cfa5-20bff3658d38"
      },
      "source": [
        "print(f\"Test Set shape: {test.shape}\")\n",
        "test.head()"
      ],
      "execution_count": 5,
      "outputs": [
        {
          "output_type": "stream",
          "text": [
            "Test Set shape: (700, 11)\n"
          ],
          "name": "stdout"
        },
        {
          "output_type": "execute_result",
          "data": {
            "text/html": [
              "<div>\n",
              "<style scoped>\n",
              "    .dataframe tbody tr th:only-of-type {\n",
              "        vertical-align: middle;\n",
              "    }\n",
              "\n",
              "    .dataframe tbody tr th {\n",
              "        vertical-align: top;\n",
              "    }\n",
              "\n",
              "    .dataframe thead th {\n",
              "        text-align: right;\n",
              "    }\n",
              "</style>\n",
              "<table border=\"1\" class=\"dataframe\">\n",
              "  <thead>\n",
              "    <tr style=\"text-align: right;\">\n",
              "      <th></th>\n",
              "      <th>isbn</th>\n",
              "      <th>name</th>\n",
              "      <th>author</th>\n",
              "      <th>publisher</th>\n",
              "      <th>year</th>\n",
              "      <th>language</th>\n",
              "      <th>pages</th>\n",
              "      <th>format</th>\n",
              "      <th>review</th>\n",
              "      <th>price</th>\n",
              "      <th>url</th>\n",
              "    </tr>\n",
              "  </thead>\n",
              "  <tbody>\n",
              "    <tr>\n",
              "      <th>0</th>\n",
              "      <td>9789507301247</td>\n",
              "      <td>Youtuber School</td>\n",
              "      <td>Sebastian villalobos</td>\n",
              "      <td>Temas de hoy</td>\n",
              "      <td>2014.0</td>\n",
              "      <td>Español</td>\n",
              "      <td>160.0</td>\n",
              "      <td>Libro físico</td>\n",
              "      <td>Uno de los youtubers más importantes de Latino...</td>\n",
              "      <td>10970</td>\n",
              "      <td>https://www.buscalibre.cl/libro-youtuber-schoo...</td>\n",
              "    </tr>\n",
              "    <tr>\n",
              "      <th>1</th>\n",
              "      <td>9789871920990</td>\n",
              "      <td>El Opio y el Hachis</td>\n",
              "      <td>Gautier theophile</td>\n",
              "      <td>Interzona</td>\n",
              "      <td>2015.0</td>\n",
              "      <td>Castellano</td>\n",
              "      <td>72.0</td>\n",
              "      <td>Libro físico</td>\n",
              "      <td>Hasta el final de la cena yo me sentí perfecta...</td>\n",
              "      <td>6750</td>\n",
              "      <td>https://www.buscalibre.cl/libro-el-opio-y-el-h...</td>\n",
              "    </tr>\n",
              "    <tr>\n",
              "      <th>2</th>\n",
              "      <td>9789878000404</td>\n",
              "      <td>Harry Potter y la Piedra Filosofal [Harry Pott...</td>\n",
              "      <td>rowling j</td>\n",
              "      <td>Salamandra</td>\n",
              "      <td>2020.0</td>\n",
              "      <td>Español</td>\n",
              "      <td>288.0</td>\n",
              "      <td>Libro físico</td>\n",
              "      <td>Harry Potter se ha quedado huérfano y vive en ...</td>\n",
              "      <td>11900</td>\n",
              "      <td>https://www.buscalibre.cl/libro-harry-potter-y...</td>\n",
              "    </tr>\n",
              "    <tr>\n",
              "      <th>3</th>\n",
              "      <td>9789566056218</td>\n",
              "      <td>Abandonados</td>\n",
              "      <td>Carolina rojas</td>\n",
              "      <td>Ediciones b</td>\n",
              "      <td>2020.0</td>\n",
              "      <td>Español</td>\n",
              "      <td>NaN</td>\n",
              "      <td>Libro físico</td>\n",
              "      <td>Durante varios años, Carolina Rojas ha investi...</td>\n",
              "      <td>10200</td>\n",
              "      <td>https://www.buscalibre.cl/libro-abandonados/97...</td>\n",
              "    </tr>\n",
              "    <tr>\n",
              "      <th>4</th>\n",
              "      <td>9789563254754</td>\n",
              "      <td>Lo que el Dinero si Puede Comprar (b)</td>\n",
              "      <td>Carlos peña</td>\n",
              "      <td>Debolsillo</td>\n",
              "      <td>2020.0</td>\n",
              "      <td>Español</td>\n",
              "      <td>284.0</td>\n",
              "      <td>Libro físico</td>\n",
              "      <td>El crecimiento y la modernización asociados al...</td>\n",
              "      <td>6800</td>\n",
              "      <td>https://www.buscalibre.cl/libro-lo-que-el-dine...</td>\n",
              "    </tr>\n",
              "  </tbody>\n",
              "</table>\n",
              "</div>"
            ],
            "text/plain": [
              "            isbn  ...                                                url\n",
              "0  9789507301247  ...  https://www.buscalibre.cl/libro-youtuber-schoo...\n",
              "1  9789871920990  ...  https://www.buscalibre.cl/libro-el-opio-y-el-h...\n",
              "2  9789878000404  ...  https://www.buscalibre.cl/libro-harry-potter-y...\n",
              "3  9789566056218  ...  https://www.buscalibre.cl/libro-abandonados/97...\n",
              "4  9789563254754  ...  https://www.buscalibre.cl/libro-lo-que-el-dine...\n",
              "\n",
              "[5 rows x 11 columns]"
            ]
          },
          "metadata": {
            "tags": []
          },
          "execution_count": 5
        }
      ]
    },
    {
      "cell_type": "markdown",
      "metadata": {
        "id": "VzEfE5kUY-xw"
      },
      "source": [
        "## Duplicates"
      ]
    },
    {
      "cell_type": "markdown",
      "metadata": {
        "id": "RRoBWgSRJLot"
      },
      "source": [
        "Duplicates have the potencial to bias future models development, so they should not be considered in the learning process. **We can only drop rows in the Training Set**, as Test Set will not be used to learn, but to predict."
      ]
    },
    {
      "cell_type": "markdown",
      "metadata": {
        "id": "aZKALbDOUQE-"
      },
      "source": [
        "The number of unique values in each column is."
      ]
    },
    {
      "cell_type": "code",
      "metadata": {
        "colab": {
          "base_uri": "https://localhost:8080/"
        },
        "id": "x08CkVgrTt2e",
        "outputId": "be8245f2-3a73-4f70-d5cd-4772d55acec2"
      },
      "source": [
        "print(f\"Unique values in isbn column: {train.isbn.nunique()}\")\n",
        "print(f\"Unique values in name column: {train.name.nunique()}\")\n",
        "print(f\"Unique values in author column: {train.author.nunique()}\")\n",
        "print(f\"Unique values in publisher column: {train.publisher.nunique()}\")\n",
        "print(f\"Unique values in year column: {train.year.nunique()}\")\n",
        "print(f\"Unique values in language column: {train.language.nunique()}\")\n",
        "print(f\"Unique values in pages column: {train.pages.nunique()}\")\n",
        "print(f\"Unique values in format column: {train.format.nunique()}\")\n",
        "print(f\"Unique values in review column: {train.review.nunique()}\")\n",
        "print(f\"Unique values in url column: {train.url.nunique()}\")\n",
        "print(f\"Unique values in topic column: {train.topic.nunique()}\")"
      ],
      "execution_count": 6,
      "outputs": [
        {
          "output_type": "stream",
          "text": [
            "Unique values in isbn column: 2721\n",
            "Unique values in name column: 2698\n",
            "Unique values in author column: 1853\n",
            "Unique values in publisher column: 373\n",
            "Unique values in year column: 34\n",
            "Unique values in language column: 10\n",
            "Unique values in pages column: 406\n",
            "Unique values in format column: 3\n",
            "Unique values in review column: 2539\n",
            "Unique values in url column: 2721\n",
            "Unique values in topic column: 13\n"
          ],
          "name": "stdout"
        }
      ]
    },
    {
      "cell_type": "markdown",
      "metadata": {
        "id": "R131gSMJWzVb"
      },
      "source": [
        "There are 2721 unique isbns and 2721 unique urls, but we need to verify that duplicates isbn corresponds to duplicates url. The number of possible different values for urls for each isbn is\n"
      ]
    },
    {
      "cell_type": "code",
      "metadata": {
        "id": "_mmnuKzqUcw5",
        "colab": {
          "base_uri": "https://localhost:8080/"
        },
        "outputId": "09191710-59a7-4829-c71d-19a675511b42"
      },
      "source": [
        "print(max(train.groupby(\"isbn\")[\"url\"].nunique().unique()))"
      ],
      "execution_count": 7,
      "outputs": [
        {
          "output_type": "stream",
          "text": [
            "1\n"
          ],
          "name": "stdout"
        }
      ]
    },
    {
      "cell_type": "markdown",
      "metadata": {
        "id": "1tjsbxsDZ42k"
      },
      "source": [
        "So, there is only 1 unique url for each isbn, and we are dropping the rest."
      ]
    },
    {
      "cell_type": "code",
      "metadata": {
        "id": "k9Cj9MGxbrhf"
      },
      "source": [
        "train.drop_duplicates(subset=\"url\", inplace=True)"
      ],
      "execution_count": 8,
      "outputs": []
    },
    {
      "cell_type": "markdown",
      "metadata": {
        "id": "soE1lai8Oato"
      },
      "source": [
        "The resulting Training Set's shape is"
      ]
    },
    {
      "cell_type": "code",
      "metadata": {
        "colab": {
          "base_uri": "https://localhost:8080/"
        },
        "id": "DEZm7ujNOXq_",
        "outputId": "0fcd14a9-ed51-48d8-c0ca-16f50a2e2814"
      },
      "source": [
        "print(train.shape)"
      ],
      "execution_count": 9,
      "outputs": [
        {
          "output_type": "stream",
          "text": [
            "(2721, 12)\n"
          ],
          "name": "stdout"
        }
      ]
    },
    {
      "cell_type": "markdown",
      "metadata": {
        "id": "xHGnISPuOoge"
      },
      "source": [
        "Similarly, the number of possible isbns for each book name is"
      ]
    },
    {
      "cell_type": "code",
      "metadata": {
        "colab": {
          "base_uri": "https://localhost:8080/"
        },
        "id": "bUqvqxfIWEQF",
        "outputId": "8ff25c9e-a2b1-482e-83e8-6c1a26f95a56"
      },
      "source": [
        "name_group_num = train.groupby(\"name\").nunique()\n",
        "print(max(name_group_num[\"isbn\"].unique()))"
      ],
      "execution_count": 10,
      "outputs": [
        {
          "output_type": "stream",
          "text": [
            "2\n"
          ],
          "name": "stdout"
        }
      ]
    },
    {
      "cell_type": "markdown",
      "metadata": {
        "id": "zNf_0vexPACg"
      },
      "source": [
        "And the number of books that have a duplicate is"
      ]
    },
    {
      "cell_type": "code",
      "metadata": {
        "colab": {
          "base_uri": "https://localhost:8080/"
        },
        "id": "1lj1sXfqbO9b",
        "outputId": "1fe38ee9-de86-4eb9-dd23-8e4598b82712"
      },
      "source": [
        "print(name_group_num[name_group_num[\"isbn\"] == 2].shape[0])"
      ],
      "execution_count": 11,
      "outputs": [
        {
          "output_type": "stream",
          "text": [
            "23\n"
          ],
          "name": "stdout"
        }
      ]
    },
    {
      "cell_type": "markdown",
      "metadata": {
        "id": "xDN60Gy1f1pz"
      },
      "source": [
        "23 pairs of books share the same name. We manually inspect every url for each pair."
      ]
    },
    {
      "cell_type": "code",
      "metadata": {
        "id": "oNYW0uq1f0zR"
      },
      "source": [
        "duplicate_names = name_group_num[name_group_num[\"isbn\"] == 2].index\n",
        "\n",
        "#for i in range(23):\n",
        "#    indeces = train[train.name == duplicate_names[i]].index\n",
        "#    print(f\"1st duplicate url with index {indeces[0]}: {train.url[indeces[0]]}\")\n",
        "#    print(f\"2nd duplicate url with index {indeces[1]}: {train.url[indeces[1]]}\")\n",
        "#    print(\"\\n\")"
      ],
      "execution_count": 13,
      "outputs": []
    },
    {
      "cell_type": "markdown",
      "metadata": {
        "id": "OHzDA9PWtIol"
      },
      "source": [
        "**Based on the information provided by each page**, we are dropping some of them, and getting the resulting Training Set's shape as"
      ]
    },
    {
      "cell_type": "code",
      "metadata": {
        "colab": {
          "base_uri": "https://localhost:8080/"
        },
        "id": "Ro2pXBnRikxh",
        "outputId": "cc139e7d-4a1a-4e1a-a7e8-48bbe470324a"
      },
      "source": [
        "train = train.drop(index=[1571, 403, 2290, 1100, 952, 1008, 722, 77, 55, 966])\n",
        "print(train.shape)"
      ],
      "execution_count": 14,
      "outputs": [
        {
          "output_type": "stream",
          "text": [
            "(2711, 12)\n"
          ],
          "name": "stdout"
        }
      ]
    },
    {
      "cell_type": "code",
      "metadata": {
        "id": "CrX5UpwOgorL"
      },
      "source": [
        "train.reset_index(drop=True, inplace=True)"
      ],
      "execution_count": 15,
      "outputs": []
    },
    {
      "cell_type": "markdown",
      "metadata": {
        "id": "jysa4od_fqrG"
      },
      "source": [
        "## Missing Data"
      ]
    },
    {
      "cell_type": "markdown",
      "metadata": {
        "id": "d1IJRzK2P81v"
      },
      "source": [
        "To handle with missing data, we can consider both Training and Test Sets. First we concatenate both in one large dataframe of shape"
      ]
    },
    {
      "cell_type": "code",
      "metadata": {
        "colab": {
          "base_uri": "https://localhost:8080/"
        },
        "id": "YYLhevFZfK7q",
        "outputId": "92b38d77-ba2e-445f-baab-772d9727c0a4"
      },
      "source": [
        "df = pd.concat([train, test], ignore_index=True)\n",
        "print(df.shape)"
      ],
      "execution_count": 16,
      "outputs": [
        {
          "output_type": "stream",
          "text": [
            "(3411, 12)\n"
          ],
          "name": "stdout"
        }
      ]
    },
    {
      "cell_type": "markdown",
      "metadata": {
        "id": "ki5Z0SYgoGc3"
      },
      "source": [
        "### Numeric Variables"
      ]
    },
    {
      "cell_type": "markdown",
      "metadata": {
        "id": "0PMMbtR3oBLT"
      },
      "source": [
        "The number of missing data for the numeric variables is"
      ]
    },
    {
      "cell_type": "code",
      "metadata": {
        "colab": {
          "base_uri": "https://localhost:8080/"
        },
        "id": "MdFeVLsogsUS",
        "outputId": "f71b289f-b3db-4a3f-e60f-4cea277595c8"
      },
      "source": [
        "num_features = [\"year\", \"pages\", \"price\"]\n",
        "print(df[num_features].isna().sum())"
      ],
      "execution_count": 17,
      "outputs": [
        {
          "output_type": "stream",
          "text": [
            "year     466\n",
            "pages    364\n",
            "price      0\n",
            "dtype: int64\n"
          ],
          "name": "stdout"
        }
      ]
    },
    {
      "cell_type": "markdown",
      "metadata": {
        "id": "etRmtYyIpKr-"
      },
      "source": [
        "### Year"
      ]
    },
    {
      "cell_type": "markdown",
      "metadata": {
        "id": "v3JckjEFoNVJ"
      },
      "source": [
        "In the year column we have the following unique values"
      ]
    },
    {
      "cell_type": "code",
      "metadata": {
        "colab": {
          "base_uri": "https://localhost:8080/"
        },
        "id": "BQSnFb4HoJsk",
        "outputId": "fc974576-9d57-4048-b290-b0b4d34b9d2f"
      },
      "source": [
        "df[\"year\"].unique()"
      ],
      "execution_count": 18,
      "outputs": [
        {
          "output_type": "execute_result",
          "data": {
            "text/plain": [
              "array([ 2019.,  2021.,  2004.,  2000.,    nan,  2020.,  2014.,  2010.,\n",
              "        2018.,  2015.,  2012.,  2013.,  1998.,  2007.,  2009.,  2016.,\n",
              "        2008.,  2017.,  2011.,  2001.,  2002.,  2005.,  2006.,  2003.,\n",
              "        1996.,  1993.,  1997.,  1970.,  1994.,  1972., 20021.,  1965.,\n",
              "        1985.,  1962.,  1992.])"
            ]
          },
          "metadata": {
            "tags": []
          },
          "execution_count": 18
        }
      ]
    },
    {
      "cell_type": "markdown",
      "metadata": {
        "id": "cyOdqTuvoiyB"
      },
      "source": [
        "The statistical description of the column is"
      ]
    },
    {
      "cell_type": "code",
      "metadata": {
        "colab": {
          "base_uri": "https://localhost:8080/"
        },
        "id": "KO487HWEoe8q",
        "outputId": "434bd6e9-0d9e-4007-c77d-59cbe6fd2581"
      },
      "source": [
        "df.at[df[\"year\"] == 20021, \"year\"] = 2021\n",
        "\n",
        "year_col =  df[df[\"year\"].isna() == False][\"year\"].astype(\"int\")\n",
        "year_col.describe()"
      ],
      "execution_count": 19,
      "outputs": [
        {
          "output_type": "execute_result",
          "data": {
            "text/plain": [
              "count    2945.000000\n",
              "mean     2016.138879\n",
              "std         4.620966\n",
              "min      1962.000000\n",
              "25%      2014.000000\n",
              "50%      2017.000000\n",
              "75%      2019.000000\n",
              "max      2021.000000\n",
              "Name: year, dtype: float64"
            ]
          },
          "metadata": {
            "tags": []
          },
          "execution_count": 19
        }
      ]
    },
    {
      "cell_type": "markdown",
      "metadata": {
        "id": "9MW4nLTToywy"
      },
      "source": [
        "And the distribution of the column is"
      ]
    },
    {
      "cell_type": "code",
      "metadata": {
        "colab": {
          "base_uri": "https://localhost:8080/",
          "height": 391
        },
        "id": "AXbpSaTCotLk",
        "outputId": "d9da8d86-ee94-4569-cfa6-e4e6c9796eff"
      },
      "source": [
        "fig = plt.subplots(figsize=(10, 6))\n",
        "sns.barplot(x=year_col.value_counts().index, y=year_col.value_counts().values)\n",
        "plt.xticks(rotation=90, fontsize=12)\n",
        "plt.yticks(fontsize=12)\n",
        "plt.show()"
      ],
      "execution_count": 20,
      "outputs": [
        {
          "output_type": "display_data",
          "data": {
            "image/png": "[encoded data removed]",
            "text/plain": [
              "<Figure size 720x432 with 1 Axes>"
            ]
          },
          "metadata": {
            "tags": [],
            "needs_background": "light"
          }
        }
      ]
    },
    {
      "cell_type": "markdown",
      "metadata": {
        "id": "--NyBA1ko8Ft"
      },
      "source": [
        "Which is a nearly smooth exponential-like distribution. So, based on that, we can impute the missing data filling the cells with a forward criteria, maintaining the distribution."
      ]
    },
    {
      "cell_type": "code",
      "metadata": {
        "colab": {
          "base_uri": "https://localhost:8080/",
          "height": 391
        },
        "id": "2vzs3zo1o6h5",
        "outputId": "a52cab75-1ee9-4839-fd7f-ccd1b5a38224"
      },
      "source": [
        "df[\"year\"] = df[\"year\"].fillna(method=\"ffill\")\n",
        "df[\"year\"] = df[\"year\"].astype(\"int\")\n",
        "\n",
        "fig = plt.subplots(figsize=(10, 6))\n",
        "sns.barplot(x=df[\"year\"].value_counts().index, y=df[\"year\"].value_counts().values)\n",
        "plt.xticks(rotation=90, fontsize=12)\n",
        "plt.yticks(fontsize=12)\n",
        "plt.show()"
      ],
      "execution_count": 21,
      "outputs": [
        {
          "output_type": "display_data",
          "data": {
            "image/png": "[encoded data removed]",
            "text/plain": [
              "<Figure size 720x432 with 1 Axes>"
            ]
          },
          "metadata": {
            "tags": [],
            "needs_background": "light"
          }
        }
      ]
    },
    {
      "cell_type": "markdown",
      "metadata": {
        "id": "T2KReqifvcek"
      },
      "source": [
        "The relation between the Training Set's target column topic vs the year column is"
      ]
    },
    {
      "cell_type": "code",
      "metadata": {
        "colab": {
          "base_uri": "https://localhost:8080/",
          "height": 539
        },
        "id": "ADXmcMqtv5D5",
        "outputId": "1c7e586d-fff4-4996-d53e-4d6bb5974451"
      },
      "source": [
        "fig = plt.subplots(figsize=(12, 6))\n",
        "sns.boxplot(y=\"year\", x=\"topic\", data=df.iloc[0:df.shape[0]-700])\n",
        "plt.title(\"Topic vs Year\", fontsize=15)\n",
        "plt.xticks(fontsize=12, rotation=90)\n",
        "plt.yticks(fontsize=12)\n",
        "plt.show()"
      ],
      "execution_count": 22,
      "outputs": [
        {
          "output_type": "display_data",
          "data": {
            "image/png": "[encoded data removed]",
            "text/plain": [
              "<Figure size 864x432 with 1 Axes>"
            ]
          },
          "metadata": {
            "tags": [],
            "needs_background": "light"
          }
        }
      ]
    },
    {
      "cell_type": "markdown",
      "metadata": {
        "id": "2fEjenv9SCo0"
      },
      "source": [
        "And for the last 20 and 10 years is, respectively,"
      ]
    },
    {
      "cell_type": "code",
      "metadata": {
        "colab": {
          "base_uri": "https://localhost:8080/",
          "height": 515
        },
        "id": "Ghu6TRXlxGxM",
        "outputId": "e5ed9089-138a-4db3-89ca-03f045c21df3"
      },
      "source": [
        "fig, axes = plt.subplots(ncols=2, figsize=(20, 6))\n",
        "sns.boxplot(x=\"topic\", y=\"year\", data=df[df[\"year\"] > 2000].iloc[0:df.shape[0]-700], ax=axes[0])\n",
        "axes[0].set_title(\"Topic vs Year (Last 20 years)\", fontsize=15)\n",
        "axes[0].tick_params(axis=\"x\", rotation=90)\n",
        "sns.boxplot(x=\"topic\", y=\"year\", data=df[df[\"year\"] > 2010].iloc[0:df.shape[0]-700], ax=axes[1])\n",
        "axes[1].set_title(\"Topic vs Year (Last 10 years)\", fontsize=15)\n",
        "axes[1].tick_params(axis=\"x\", rotation=90)\n",
        "plt.show()"
      ],
      "execution_count": 23,
      "outputs": [
        {
          "output_type": "display_data",
          "data": {
            "image/png": "[encoded data removed]",
            "text/plain": [
              "<Figure size 1440x432 with 2 Axes>"
            ]
          },
          "metadata": {
            "tags": [],
            "needs_background": "light"
          }
        }
      ]
    },
    {
      "cell_type": "markdown",
      "metadata": {
        "id": "bejKIB1sSUZ8"
      },
      "source": [
        "Finally we are min-max scaling the year column (for better calculations)"
      ]
    },
    {
      "cell_type": "code",
      "metadata": {
        "id": "FSfR9qzBSiU0"
      },
      "source": [
        "df[\"year_scaled\"] = (df[\"year\"] - min(df[\"year\"])) / (max(df[\"year\"]) - min(df[\"year\"]))"
      ],
      "execution_count": 24,
      "outputs": []
    },
    {
      "cell_type": "markdown",
      "metadata": {
        "id": "--2uNRk8pTaT"
      },
      "source": [
        "### Pages"
      ]
    },
    {
      "cell_type": "markdown",
      "metadata": {
        "id": "ffpsKVopOIEs"
      },
      "source": [
        "The description of the pages column, distribution and QQ-plot are"
      ]
    },
    {
      "cell_type": "code",
      "metadata": {
        "colab": {
          "base_uri": "https://localhost:8080/"
        },
        "id": "aKeGyUgvpGNL",
        "outputId": "e923f55d-08d9-4a20-df0c-25a2501e7242"
      },
      "source": [
        "pages_col =  df[df[\"pages\"].isna() == False][\"pages\"].astype(\"int\")\n",
        "pages_col.describe()"
      ],
      "execution_count": 25,
      "outputs": [
        {
          "output_type": "execute_result",
          "data": {
            "text/plain": [
              "count    3047.000000\n",
              "mean      271.000000\n",
              "std       211.884756\n",
              "min         1.000000\n",
              "25%       144.000000\n",
              "50%       227.000000\n",
              "75%       352.000000\n",
              "max      3872.000000\n",
              "Name: pages, dtype: float64"
            ]
          },
          "metadata": {
            "tags": []
          },
          "execution_count": 25
        }
      ]
    },
    {
      "cell_type": "code",
      "metadata": {
        "colab": {
          "base_uri": "https://localhost:8080/",
          "height": 407
        },
        "id": "5wOogGs8pqqD",
        "outputId": "59287cbb-7d8a-4dd7-cf8a-0467f258f8c1"
      },
      "source": [
        "fig, axes = plt.subplots(ncols=2, figsize=(15, 6))\n",
        "sns.histplot(df[\"pages\"], color=palette[0], ax=axes[0])\n",
        "plt.xticks(fontsize=12)\n",
        "plt.yticks(fontsize=12)\n",
        "stats.probplot(df[\"pages\"], plot=axes[1])\n",
        "axes[0].set_title(\"Distribution plot\", fontsize=15)\n",
        "axes[1].set_title(\"QQ-plot\", fontsize=15)\n",
        "plt.show()"
      ],
      "execution_count": 26,
      "outputs": [
        {
          "output_type": "display_data",
          "data": {
            "image/png": "[encoded data removed]",
            "text/plain": [
              "<Figure size 1080x432 with 2 Axes>"
            ]
          },
          "metadata": {
            "tags": [],
            "needs_background": "light"
          }
        }
      ]
    },
    {
      "cell_type": "markdown",
      "metadata": {
        "id": "n7t6O2p2pwb-"
      },
      "source": [
        "The pages columns has outliers and an right skew of "
      ]
    },
    {
      "cell_type": "code",
      "metadata": {
        "colab": {
          "base_uri": "https://localhost:8080/"
        },
        "id": "96fG_1Dzpuqz",
        "outputId": "ed04f1c1-7124-4e53-ef30-898bd8832ec3"
      },
      "source": [
        "print(skew(pages_col))"
      ],
      "execution_count": 27,
      "outputs": [
        {
          "output_type": "stream",
          "text": [
            "4.4434027334421105\n"
          ],
          "name": "stdout"
        }
      ]
    },
    {
      "cell_type": "markdown",
      "metadata": {
        "id": "RplOC7Szp5Ji"
      },
      "source": [
        "We may first fill the missing data with a forward criteria"
      ]
    },
    {
      "cell_type": "code",
      "metadata": {
        "id": "4I2zoX6xp4Z6"
      },
      "source": [
        "df[\"pages\"] = df[\"pages\"].fillna(method=\"ffill\")\n",
        "df[\"pages\"] = df[\"pages\"].astype(\"int\")"
      ],
      "execution_count": 28,
      "outputs": []
    },
    {
      "cell_type": "markdown",
      "metadata": {
        "id": "cb9FK3N6Uzvl"
      },
      "source": [
        "To get a similar skew of"
      ]
    },
    {
      "cell_type": "code",
      "metadata": {
        "colab": {
          "base_uri": "https://localhost:8080/"
        },
        "id": "62e3OaMMU2jq",
        "outputId": "e67415b9-b4da-4759-d167-fdbeafdaafbf"
      },
      "source": [
        "print(skew(df[\"pages\"]))"
      ],
      "execution_count": 29,
      "outputs": [
        {
          "output_type": "stream",
          "text": [
            "4.353595912857687\n"
          ],
          "name": "stdout"
        }
      ]
    },
    {
      "cell_type": "markdown",
      "metadata": {
        "id": "e2oYnhsjp-4f"
      },
      "source": [
        "Now **we can only remove the distribution outliers from the Training Set**. And the resulting Data shape will be "
      ]
    },
    {
      "cell_type": "code",
      "metadata": {
        "colab": {
          "base_uri": "https://localhost:8080/"
        },
        "id": "v_jdO6u3p9n6",
        "outputId": "8963ecdc-af4b-4d52-8f80-9c4ee50834c0"
      },
      "source": [
        "df = df.drop(train[train[\"pages\"] >= 900].index, axis=0)\n",
        "df.shape"
      ],
      "execution_count": 30,
      "outputs": [
        {
          "output_type": "execute_result",
          "data": {
            "text/plain": [
              "(3382, 13)"
            ]
          },
          "metadata": {
            "tags": []
          },
          "execution_count": 30
        }
      ]
    },
    {
      "cell_type": "markdown",
      "metadata": {
        "id": "t6M4HSAwqFHk"
      },
      "source": [
        "Also, a **Root Transformation to the entire column could mitigate some of the skewness**. The choice of the root can be improved to a better skewness, but for now, we are using a not so aggresive root of 2/5 to get the following graphs"
      ]
    },
    {
      "cell_type": "code",
      "metadata": {
        "colab": {
          "base_uri": "https://localhost:8080/",
          "height": 407
        },
        "id": "352YRxhLqENK",
        "outputId": "5503e46d-d3e1-4a1a-b1ab-01f74a94b2cc"
      },
      "source": [
        "df[\"root_pages\"] = df[\"pages\"] ** (2/5)\n",
        "\n",
        "fig, axes = plt.subplots(ncols=2, figsize=(15, 6))\n",
        "sns.histplot(df[\"root_pages\"], color=palette[0], ax=axes[0])\n",
        "plt.xticks(fontsize=12)\n",
        "plt.yticks(fontsize=12)\n",
        "stats.probplot(df[\"root_pages\"], plot=axes[1])\n",
        "axes[0].set_title(\"Distribution plot\", fontsize=15)\n",
        "axes[1].set_title(\"QQ-plot\", fontsize=15)\n",
        "plt.show()"
      ],
      "execution_count": 31,
      "outputs": [
        {
          "output_type": "display_data",
          "data": {
            "image/png": "[encoded data removed]",
            "text/plain": [
              "<Figure size 1080x432 with 2 Axes>"
            ]
          },
          "metadata": {
            "tags": [],
            "needs_background": "light"
          }
        }
      ]
    },
    {
      "cell_type": "markdown",
      "metadata": {
        "id": "-HFNbFtQqP_u"
      },
      "source": [
        "And a final lower skew of "
      ]
    },
    {
      "cell_type": "code",
      "metadata": {
        "colab": {
          "base_uri": "https://localhost:8080/"
        },
        "id": "4gmKwZWZqO66",
        "outputId": "08c6e0f1-bc56-49f3-d4d6-6381e02e6cb1"
      },
      "source": [
        "skew(df[\"root_pages\"])"
      ],
      "execution_count": 32,
      "outputs": [
        {
          "output_type": "execute_result",
          "data": {
            "text/plain": [
              "0.025550952418601728"
            ]
          },
          "metadata": {
            "tags": []
          },
          "execution_count": 32
        }
      ]
    },
    {
      "cell_type": "markdown",
      "metadata": {
        "id": "Aqwj-J0u3bZz"
      },
      "source": [
        "The relation between the Training Set target topic column vs the root_page column is presented as follows"
      ]
    },
    {
      "cell_type": "code",
      "metadata": {
        "colab": {
          "base_uri": "https://localhost:8080/",
          "height": 539
        },
        "id": "-Fd8TgQ13bFV",
        "outputId": "9ea428e8-74ca-448e-84ee-c1a366d603a8"
      },
      "source": [
        "fig = plt.subplots(figsize=(12, 6))\n",
        "sns.violinplot(x=\"topic\", y=\"root_pages\", data=df.iloc[0:df.shape[0]-700])\n",
        "plt.title(\"Topic vs Root of pages\", fontsize=15)\n",
        "plt.xticks(fontsize=12, rotation=90)\n",
        "plt.yticks(fontsize=12)\n",
        "plt.show()"
      ],
      "execution_count": 33,
      "outputs": [
        {
          "output_type": "display_data",
          "data": {
            "image/png": "[encoded data removed]",
            "text/plain": [
              "<Figure size 864x432 with 1 Axes>"
            ]
          },
          "metadata": {
            "tags": [],
            "needs_background": "light"
          }
        }
      ]
    },
    {
      "cell_type": "markdown",
      "metadata": {
        "id": "78StRVqLqtWS"
      },
      "source": [
        "### Price"
      ]
    },
    {
      "cell_type": "markdown",
      "metadata": {
        "id": "5R49X703OUuP"
      },
      "source": [
        "The graphs of the distribution of the whole price column are"
      ]
    },
    {
      "cell_type": "code",
      "metadata": {
        "id": "etyZ6eyZq-1L",
        "colab": {
          "base_uri": "https://localhost:8080/",
          "height": 409
        },
        "outputId": "5250d1db-e85c-4dad-fced-b63ef1aa0e7b"
      },
      "source": [
        "fig, axes = plt.subplots(ncols=2, figsize=(15, 6))\n",
        "sns.histplot(df[\"price\"], color=palette[0], ax=axes[0])\n",
        "stats.probplot(df[\"price\"], plot=axes[1])\n",
        "axes[0].set_title(\"Distribution plot\", fontsize=15)\n",
        "axes[1].set_title(\"QQ-plot\", fontsize=15)\n",
        "plt.xticks(rotation=90, fontsize=12)\n",
        "plt.yticks(fontsize=12)\n",
        "plt.show()"
      ],
      "execution_count": 34,
      "outputs": [
        {
          "output_type": "display_data",
          "data": {
            "image/png": "[encoded data removed]",
            "text/plain": [
              "<Figure size 1080x432 with 2 Axes>"
            ]
          },
          "metadata": {
            "tags": [],
            "needs_background": "light"
          }
        }
      ]
    },
    {
      "cell_type": "markdown",
      "metadata": {
        "id": "qYhz-mVZOiTl"
      },
      "source": [
        "In the Training Set, the number of books with a price higher than 35000 is"
      ]
    },
    {
      "cell_type": "code",
      "metadata": {
        "colab": {
          "base_uri": "https://localhost:8080/"
        },
        "id": "YXlB_1ZfPXrd",
        "outputId": "4300062f-b13d-4d96-c920-0c6ff47b148c"
      },
      "source": [
        "sum(train[\"price\"] >= 35_000)"
      ],
      "execution_count": 35,
      "outputs": [
        {
          "output_type": "execute_result",
          "data": {
            "text/plain": [
              "23"
            ]
          },
          "metadata": {
            "tags": []
          },
          "execution_count": 35
        }
      ]
    },
    {
      "cell_type": "markdown",
      "metadata": {
        "id": "RdoOAby_XQAz"
      },
      "source": [
        "And we are dropping them all"
      ]
    },
    {
      "cell_type": "code",
      "metadata": {
        "id": "LAUezWh7PcUo"
      },
      "source": [
        "df = df.drop(index=[x for x in df[df[\"price\"] >= 35_000].index if x < 2682])"
      ],
      "execution_count": 36,
      "outputs": []
    },
    {
      "cell_type": "markdown",
      "metadata": {
        "id": "SPEr9vSfXc-o"
      },
      "source": [
        "The actual skewness of the entire column is"
      ]
    },
    {
      "cell_type": "code",
      "metadata": {
        "colab": {
          "base_uri": "https://localhost:8080/"
        },
        "id": "GGraQIlMX3Xn",
        "outputId": "1add0bab-6ca6-43f3-b465-9848eb720985"
      },
      "source": [
        "skew(df[\"price\"])"
      ],
      "execution_count": 37,
      "outputs": [
        {
          "output_type": "execute_result",
          "data": {
            "text/plain": [
              "1.0104195064348893"
            ]
          },
          "metadata": {
            "tags": []
          },
          "execution_count": 37
        }
      ]
    },
    {
      "cell_type": "markdown",
      "metadata": {
        "id": "cxqlluJKX3mb"
      },
      "source": [
        "Similar to before, a **1/3-Root Transformation of the column will bring the distribution closer to a normal-like**"
      ]
    },
    {
      "cell_type": "code",
      "metadata": {
        "colab": {
          "base_uri": "https://localhost:8080/",
          "height": 409
        },
        "id": "DflXgL0hX5ME",
        "outputId": "d67db016-8fc9-48c8-c56b-256b51a642b6"
      },
      "source": [
        "df[\"root_price\"] = df[\"price\"] ** (1/3)\n",
        "\n",
        "fig, axes = plt.subplots(ncols=2, figsize=(15, 6))\n",
        "sns.histplot(df[\"root_price\"], color=palette[0], ax=axes[0])\n",
        "stats.probplot(df[\"root_price\"], plot=axes[1])\n",
        "axes[0].set_title(\"Distribution plot\", fontsize=15)\n",
        "axes[1].set_title(\"QQ-plot\", fontsize=15)\n",
        "plt.xticks(rotation=90, fontsize=12)\n",
        "plt.yticks(fontsize=12)\n",
        "plt.show()"
      ],
      "execution_count": 38,
      "outputs": [
        {
          "output_type": "display_data",
          "data": {
            "image/png": "[encoded data removed]",
            "text/plain": [
              "<Figure size 1080x432 with 2 Axes>"
            ]
          },
          "metadata": {
            "tags": [],
            "needs_background": "light"
          }
        }
      ]
    },
    {
      "cell_type": "markdown",
      "metadata": {
        "id": "hHkfMuJYY3LL"
      },
      "source": [
        "And reduce the skewness to"
      ]
    },
    {
      "cell_type": "code",
      "metadata": {
        "colab": {
          "base_uri": "https://localhost:8080/"
        },
        "id": "rVWcrB4qY1fb",
        "outputId": "68dc3a9b-0c03-43a1-efff-69770e0916d7"
      },
      "source": [
        "print(skew(df[\"root_price\"]))"
      ],
      "execution_count": 39,
      "outputs": [
        {
          "output_type": "stream",
          "text": [
            "-0.2993170437448674\n"
          ],
          "name": "stdout"
        }
      ]
    },
    {
      "cell_type": "markdown",
      "metadata": {
        "id": "7Aed3Cmh5Z8t"
      },
      "source": [
        "The relation between the Training Set topic column vs root_price column is presented in the following graph"
      ]
    },
    {
      "cell_type": "code",
      "metadata": {
        "colab": {
          "base_uri": "https://localhost:8080/",
          "height": 539
        },
        "id": "FsScqKCa4uWG",
        "outputId": "f5b9304c-903d-4946-890c-4480a6a0267a"
      },
      "source": [
        "fig = plt.subplots(figsize=(12, 6))\n",
        "sns.violinplot(x=\"topic\", y=\"root_price\", data=df.iloc[0:df.shape[0]-700])\n",
        "plt.title(\"Topic vs Root of prices\", fontsize=15)\n",
        "plt.xticks(fontsize=12, rotation=90)\n",
        "plt.yticks(fontsize=12)\n",
        "plt.show()"
      ],
      "execution_count": 40,
      "outputs": [
        {
          "output_type": "display_data",
          "data": {
            "image/png": "[encoded data removed]",
            "text/plain": [
              "<Figure size 864x432 with 1 Axes>"
            ]
          },
          "metadata": {
            "tags": [],
            "needs_background": "light"
          }
        }
      ]
    },
    {
      "cell_type": "code",
      "metadata": {
        "id": "x9696VcCBb5b"
      },
      "source": [
        "df.reset_index(drop=True, inplace=True)"
      ],
      "execution_count": 41,
      "outputs": []
    },
    {
      "cell_type": "markdown",
      "metadata": {
        "id": "6hxs_dQya4i-"
      },
      "source": [
        "### Non Numeric Variables"
      ]
    },
    {
      "cell_type": "markdown",
      "metadata": {
        "id": "WzH680OZ5lvV"
      },
      "source": [
        "The number of missing data in non numeric variables is"
      ]
    },
    {
      "cell_type": "code",
      "metadata": {
        "id": "oH3Uva4ea6hx",
        "colab": {
          "base_uri": "https://localhost:8080/"
        },
        "outputId": "720abb80-b2d7-400e-9504-f3cd452ce4f5"
      },
      "source": [
        "non_num_features = [\"name\", \"author\", \"publisher\", \"language\", \"format\"]\n",
        "df[non_num_features].isna().sum()"
      ],
      "execution_count": 42,
      "outputs": [
        {
          "output_type": "execute_result",
          "data": {
            "text/plain": [
              "name           0\n",
              "author        53\n",
              "publisher     23\n",
              "language     183\n",
              "format        10\n",
              "dtype: int64"
            ]
          },
          "metadata": {
            "tags": []
          },
          "execution_count": 42
        }
      ]
    },
    {
      "cell_type": "markdown",
      "metadata": {
        "id": "IoyQE9j85vJw"
      },
      "source": [
        "### Author"
      ]
    },
    {
      "cell_type": "markdown",
      "metadata": {
        "id": "FdNlgmWI52S5"
      },
      "source": [
        "The following list represents de **possible numbers of differents isbns for each author**."
      ]
    },
    {
      "cell_type": "code",
      "metadata": {
        "colab": {
          "base_uri": "https://localhost:8080/"
        },
        "id": "P_Ry1MCV5zrK",
        "outputId": "74e2eedc-400d-42c7-dca5-9a9f7b0f1822"
      },
      "source": [
        "df.groupby(\"author\")[\"isbn\"].nunique().unique()"
      ],
      "execution_count": 43,
      "outputs": [
        {
          "output_type": "execute_result",
          "data": {
            "text/plain": [
              "array([ 7,  1,  2,  3,  8,  4,  6,  5, 11, 13, 10, 23, 12, 15,  9, 32, 26,\n",
              "       78])"
            ]
          },
          "metadata": {
            "tags": []
          },
          "execution_count": 43
        }
      ]
    },
    {
      "cell_type": "markdown",
      "metadata": {
        "id": "cAg5OkTW6U6a"
      },
      "source": [
        "Being 78 the biggest one that corresponds to the label \"varios autores\" (multiple authors)"
      ]
    },
    {
      "cell_type": "code",
      "metadata": {
        "colab": {
          "base_uri": "https://localhost:8080/"
        },
        "id": "KDb6Y9e657Xn",
        "outputId": "e9e50cd0-6198-448c-d18e-9ed8a7043c99"
      },
      "source": [
        "df.groupby(\"author\")[\"isbn\"].nunique().sort_values(ascending=False).head()"
      ],
      "execution_count": 44,
      "outputs": [
        {
          "output_type": "execute_result",
          "data": {
            "text/plain": [
              "author\n",
              "Varios autores    78\n",
              "Tea stilton       32\n",
              "Varios            26\n",
              "Disney            23\n",
              "Jorge baradit     15\n",
              "Name: isbn, dtype: int64"
            ]
          },
          "metadata": {
            "tags": []
          },
          "execution_count": 44
        }
      ]
    },
    {
      "cell_type": "markdown",
      "metadata": {
        "id": "6Tx8AfGG6xKt"
      },
      "source": [
        "The number missing authors of Training Set and to Test Set are, respectively"
      ]
    },
    {
      "cell_type": "code",
      "metadata": {
        "colab": {
          "base_uri": "https://localhost:8080/"
        },
        "id": "yTQQV1GO69QC",
        "outputId": "70be2ba2-9e9e-4956-8f49-ef87fffb4f41"
      },
      "source": [
        "print(train[\"author\"].isna().sum())\n",
        "print(test[\"author\"].isna().sum())"
      ],
      "execution_count": 45,
      "outputs": [
        {
          "output_type": "stream",
          "text": [
            "49\n",
            "5\n"
          ],
          "name": "stdout"
        }
      ]
    },
    {
      "cell_type": "markdown",
      "metadata": {
        "id": "H4zbwId67NbP"
      },
      "source": [
        "We will encode the name for a male and female columns. For that, we first load two datasets of spanish male and female names."
      ]
    },
    {
      "cell_type": "code",
      "metadata": {
        "colab": {
          "resources": {
            "http://localhost:8080/nbextensions/google.colab/files.js": {
              "data": "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",
              "ok": true,
              "headers": [
                [
                  "content-type",
                  "application/javascript"
                ]
              ],
              "status": 200,
              "status_text": ""
            }
          },
          "base_uri": "https://localhost:8080/",
          "height": 127
        },
        "id": "gjLelDlt7BSR",
        "outputId": "d8bf5c07-cefa-4fee-9bd6-8fd527d0f66d"
      },
      "source": [
        "uploaded_males = files.upload()\n",
        "uploaded_females = files.upload()"
      ],
      "execution_count": 46,
      "outputs": [
        {
          "output_type": "display_data",
          "data": {
            "text/html": [
              "\n",
              "     <input type=\"file\" id=\"files-6436456b-0271-47fe-8898-a334b317aacb\" name=\"files[]\" multiple disabled\n",
              "        style=\"border:none\" />\n",
              "     <output id=\"result-6436456b-0271-47fe-8898-a334b317aacb\">\n",
              "      Upload widget is only available when the cell has been executed in the\n",
              "      current browser session. Please rerun this cell to enable.\n",
              "      </output>\n",
              "      <script src=\"/nbextensions/google.colab/files.js\"></script> "
            ],
            "text/plain": [
              "<IPython.core.display.HTML object>"
            ]
          },
          "metadata": {
            "tags": []
          }
        },
        {
          "output_type": "stream",
          "text": [
            "Saving males.csv to males.csv\n"
          ],
          "name": "stdout"
        },
        {
          "output_type": "display_data",
          "data": {
            "text/html": [
              "\n",
              "     <input type=\"file\" id=\"files-264a2c8f-8f4c-4354-98aa-0506448c5878\" name=\"files[]\" multiple disabled\n",
              "        style=\"border:none\" />\n",
              "     <output id=\"result-264a2c8f-8f4c-4354-98aa-0506448c5878\">\n",
              "      Upload widget is only available when the cell has been executed in the\n",
              "      current browser session. Please rerun this cell to enable.\n",
              "      </output>\n",
              "      <script src=\"/nbextensions/google.colab/files.js\"></script> "
            ],
            "text/plain": [
              "<IPython.core.display.HTML object>"
            ]
          },
          "metadata": {
            "tags": []
          }
        },
        {
          "output_type": "stream",
          "text": [
            "Saving females.csv to females.csv\n"
          ],
          "name": "stdout"
        }
      ]
    },
    {
      "cell_type": "markdown",
      "metadata": {
        "id": "JSS_uteYaaGc"
      },
      "source": [
        "First, check the missing data."
      ]
    },
    {
      "cell_type": "code",
      "metadata": {
        "colab": {
          "base_uri": "https://localhost:8080/"
        },
        "id": "juWVi06o8BvN",
        "outputId": "2882f07b-4712-4ea2-f3a0-f7af84f3544c"
      },
      "source": [
        "males = pd.read_csv(io.BytesIO(uploaded_males[\"males.csv\"]))[\"nombre\"]\n",
        "females = pd.read_csv(io.BytesIO(uploaded_females[\"females.csv\"]))[\"nombre\"]\n",
        "print(f\"Missing data in males:\\n {males.isna().sum()}\\n\")\n",
        "print(f\"Missing data in females:\\n {females.isna().sum()}\")"
      ],
      "execution_count": 47,
      "outputs": [
        {
          "output_type": "stream",
          "text": [
            "Missing data in males:\n",
            " 0\n",
            "\n",
            "Missing data in females:\n",
            " 1\n"
          ],
          "name": "stdout"
        }
      ]
    },
    {
      "cell_type": "markdown",
      "metadata": {
        "id": "n8MzvDVu_Plv"
      },
      "source": [
        "And remove them."
      ]
    },
    {
      "cell_type": "code",
      "metadata": {
        "colab": {
          "base_uri": "https://localhost:8080/"
        },
        "id": "JfZa3m4M8Pnm",
        "outputId": "289cef96-1f09-4240-e827-b8c1f383c3e2"
      },
      "source": [
        "females = females.dropna(axis=0).reset_index(drop=True)\n",
        "\n",
        "print(f\"Shapes of each list:\\n  males: {males.shape}, females: {females.shape}\")"
      ],
      "execution_count": 48,
      "outputs": [
        {
          "output_type": "stream",
          "text": [
            "Shapes of each list:\n",
            "  males: (25442,), females: (24493,)\n"
          ],
          "name": "stdout"
        }
      ]
    },
    {
      "cell_type": "markdown",
      "metadata": {
        "id": "cM4mQ-e1_vJH"
      },
      "source": [
        "Both datasets contains complete names, so we store just the first names in two lists (one for males and one for females)"
      ]
    },
    {
      "cell_type": "code",
      "metadata": {
        "id": "T2fee14C_kod"
      },
      "source": [
        "males = [males[i].lower().split(\" \")[0] for i in range(len(males))]\n",
        "females = [females[i].lower().split(\" \")[0] for i in range(len(females))]"
      ],
      "execution_count": 49,
      "outputs": []
    },
    {
      "cell_type": "markdown",
      "metadata": {
        "id": "nkmAJD6dAJQ6"
      },
      "source": [
        "Set **two new columns for the dataset: a column with 1 for male names (and 0 for the rest), and another columns with 1 for females names (and 0 for the rest)**.\n",
        "Note that there are mislabels, that we will be treating manually."
      ]
    },
    {
      "cell_type": "code",
      "metadata": {
        "id": "E4WubTZpAIuA"
      },
      "source": [
        "df[\"author_male\"] = 0\n",
        "df[\"author_female\"] = 0\n",
        "\n",
        "for idx, item in df[\"author\"].items():\n",
        "    if df[\"author\"].isna()[idx] == False:\n",
        "        name = df[\"author\"][idx].lower().split(\" \")[0].replace(\"á\", \"a\").replace(\n",
        "            \"é\", \"e\").replace(\"í\", \"i\").replace(\"ó\", \"o\").replace(\"ú\", \"u\")\n",
        "        if name in females:\n",
        "            df.at[idx, \"author_female\"] = 1\n",
        "\n",
        "for idx, item in df[\"author\"].items():\n",
        "    if df[\"author\"].isna()[idx] == False:\n",
        "        name = df[\"author\"][idx].lower().split(\" \")[0].replace(\"á\", \"a\").replace(\n",
        "            \"é\", \"e\").replace(\"í\", \"i\").replace(\"ó\", \"o\").replace(\"ú\", \"u\")\n",
        "        if name in males:\n",
        "            df.at[idx, \"author_male\"] = 1\n",
        "\n"
      ],
      "execution_count": 50,
      "outputs": []
    },
    {
      "cell_type": "markdown",
      "metadata": {
        "id": "yVer-Bv6A9bp"
      },
      "source": [
        "Create two lists for authors that were labeled as both, and authors that were labeled as neither."
      ]
    },
    {
      "cell_type": "code",
      "metadata": {
        "id": "68MQFQKPbxaC"
      },
      "source": [
        "both = [\n",
        "    i for i in range(df.shape[0])\n",
        "    if df.at[i, \"author_female\"] == 1 and df.at[i, \"author_male\"] == 1\n",
        "]\n",
        "\n",
        "neither = [\n",
        "    i for i in range(df.shape[0])\n",
        "    if df.at[i, \"author_female\"] == 0 and df.at[i, \"author_male\"] == 0\n",
        "]"
      ],
      "execution_count": 51,
      "outputs": []
    },
    {
      "cell_type": "markdown",
      "metadata": {
        "id": "P916r8cPb3vA"
      },
      "source": [
        "We print all the both-neither-labeled authors with their data frame index, to inspect each name and reassign them manually."
      ]
    },
    {
      "cell_type": "code",
      "metadata": {
        "id": "5yxrrJ1rAGxD"
      },
      "source": [
        "#for i in both:\n",
        "#    print(i, df.at[i, \"author\"])"
      ],
      "execution_count": 53,
      "outputs": []
    },
    {
      "cell_type": "code",
      "metadata": {
        "id": "mQPwbIkIBVFs"
      },
      "source": [
        "males_checking = [\n",
        "    23, 195, 253, 255, 266, 350, 421, 436, 465, 492, 493, 639, 645, 647, 669, 715, 778, 861, 891, \n",
        "    905, 916, 1177, 1206, 1229, 1234, 1241, 1318, 1339, 1389, 1433, 1434, 1740, 1773, 1775, 1777, \n",
        "    1782, 1795, 1796, 1825, 1829, 1888, 1910, 2051, 2072, 2081, 2177, 2220, 2311, 2351, 2361, 2456, \n",
        "    2498, 2531, 2544, 2559, 2570, 2578, 2589, 2688, 2727, 2792, 2804, 2805, 2811, 2854, 2937, 2955, \n",
        "    3050, 3063, 3112, 3117, 3124, 3144, 3163, 3241, 3275, 3296, 3360\n",
        "]\n",
        "no_gender_cheking = [593, 1235]\n",
        "females_checking = [i for i in both if i not in males_checking and i not in no_gender_cheking]\n",
        "\n",
        "for m in males_checking:\n",
        "    df.at[m, \"author_female\"] = 0\n",
        "\n",
        "for f in females_checking:\n",
        "    df.at[f, \"author_male\"] = 0\n",
        "\n",
        "for n in no_gender_cheking:\n",
        "    df.at[n, \"author_female\"] = 0\n",
        "    df.at[n, \"author_male\"] = 0"
      ],
      "execution_count": 54,
      "outputs": []
    },
    {
      "cell_type": "code",
      "metadata": {
        "id": "akRSK6QcybnH"
      },
      "source": [
        "#for i in neither:\n",
        "#    print(i, df.at[i, \"author\"])"
      ],
      "execution_count": 56,
      "outputs": []
    },
    {
      "cell_type": "code",
      "metadata": {
        "id": "JmEuXMPszNv7"
      },
      "source": [
        "males_checking2 = [\n",
        "    4, 10, 32, 36, 48, 57, 71, 77, 85, 87, 93, 95, 101, 102, 103, 125, 157, 169, 173, 174, 175, \n",
        "    176, 180, 181, 183, 259, 263, 264, 283, 288, 291, 296, 305, 319, 353, 359, 367, 402, 410, 431, \n",
        "    438, 440, 462, 470, 476, 482, 496, 502, 525, 559, 603, 609, 618, 622, 633, 714, 755, 794, 831, \n",
        "    878, 903, 911, 933, 951, 997, 1019, 1020, 1027, 1033, 1041, 1046, 1063, 1070, 1071, 1079, 1108, \n",
        "    1133, 1143, 1154, 1182, 1236, 1242, 1244, 1247, 1256, 1258, 1321, 1322, 1325, 1332, 1345, 1351, \n",
        "    1353, 1359, 1361, 1375, 1435, 1448, 1495, 1497, 1498, 1500, 1504, 1580, 1613, 1618, 1646, 1650, \n",
        "    1651, 1660, 1662, 1705, 1717, 1725, 1736, 1739, 1760, 1769, 1810, 1822, 1855, 1862, 1868, 1881, \n",
        "    1907, 1928, 1977, 1979, 1981, 1994, 2012, 2014, 2034, 2049, 2050, 2057, 2071, 2078, 2099, 2108, \n",
        "    2112, 2113, 2120, 2121, 2125, 2135, 2143, 2144, 2145, 2146, 2147, 2155, 2170, 2194, 2216, 2222, \n",
        "    2227, 2242, 2262, 2265, 2290, 2308, 2314, 2316, 2329, 2332, 2335, 2349, 2354, 2357, 2362, 2388, \n",
        "    2394, 2407, 2408, 2414, 2416, 2444, 2464, 2476, 2513, 2521, 2554, 2557, 2563, 2567, 2649, 2658, \n",
        "    2665, 2681, 2714, 2750, 2754, 2755, 2756, 2757, 2762, 2766, 2779, 2810, 2837, 2842, 2844, 2851, \n",
        "    2885, 2889, 2904, 2915, 2929, 2938, 2946, 2985, 2997, 3004, 3010, 3020, 3035, 3070, 3109, 3115, \n",
        "    3116, 3141, 3148, 3162, 3173, 3175, 3188, 3192, 3197, 3218, 3266, 3268, 3274, 3289, 3293, 3305, \n",
        "    3327, 3328, 3338, 3340, 3354, 3362\n",
        "]\n",
        "females_checking2 = [\n",
        "    34, 41, 152, 170, 182, 183, 187, 189, 260, 312, 342, 370, 380, 382, 395, 396, 397, 399, 404, \n",
        "    411, 422, 427, 437, 443, 444, 464, 477, 539, 551, 573, 580, 581, 583, 604, 627, 634, 651, 662, \n",
        "    684, 725, 776, 789, 791, 797, 809, 811, 830, 833, 852, 917, 937, 940, 949, 1128, 1132, 1136, \n",
        "    1173, 1264, 1278, 1288, 1290, 1296, 1304, 1340, 1367, 1372, 1379, 1394, 1450, 1458, 1462, 1468, \n",
        "    1589, 1654, 1656, 1803, 1832, 1893, 1905, 1911, 1923, 1961, 1964, 1975, 2087, 2154, 2162, 2195, \n",
        "    2199, 2203, 2226, 2264, 2276, 2317, 2348, 2403, 2417, 2507, 2510, 2546, 2666, 2684, 2704, 2740, \n",
        "    2769, 2785, 2786, 2790, 2852, 2865, 2869, 2947, 2988, 3037, 3041, 3058, 3098, 3202, 3207, 3236, \n",
        "    3312, 3319, 3326\n",
        "]\n",
        "\n",
        "for m in males_checking2:\n",
        "    df.at[m, \"author_female\"] = 1\n",
        "\n",
        "for f in females_checking2:\n",
        "    df.at[f, \"author_male\"] = 1"
      ],
      "execution_count": 57,
      "outputs": []
    },
    {
      "cell_type": "markdown",
      "metadata": {
        "id": "ee_fz13pps61"
      },
      "source": [
        "The author_male and author_female columns statistics are"
      ]
    },
    {
      "cell_type": "code",
      "metadata": {
        "id": "6fI0iZbQAjMp",
        "colab": {
          "base_uri": "https://localhost:8080/"
        },
        "outputId": "93733b9d-259c-4f28-c238-4673ef57884a"
      },
      "source": [
        "print(\"Statistics for males: \\n\", df[df[\"author_male\"] == 1][\"price\"].describe())\n",
        "print(\"\\n\")\n",
        "print(\"Statistics for females: \\n\", df[df[\"author_female\"] == 1][\"price\"].describe())"
      ],
      "execution_count": 58,
      "outputs": [
        {
          "output_type": "stream",
          "text": [
            "Statistics for males: \n",
            " count     1723.000000\n",
            "mean     10789.094602\n",
            "std       4673.644828\n",
            "min       1570.000000\n",
            "25%       7500.000000\n",
            "50%      10500.000000\n",
            "75%      13500.000000\n",
            "max      46740.000000\n",
            "Name: price, dtype: float64\n",
            "\n",
            "\n",
            "Statistics for females: \n",
            " count     1135.000000\n",
            "mean     10046.185022\n",
            "std       4573.222304\n",
            "min       1280.000000\n",
            "25%       6800.000000\n",
            "50%      10120.000000\n",
            "75%      12750.000000\n",
            "max      44940.000000\n",
            "Name: price, dtype: float64\n"
          ],
          "name": "stdout"
        }
      ]
    },
    {
      "cell_type": "markdown",
      "metadata": {
        "id": "bIkvZbRTp5mR"
      },
      "source": [
        "We plot the following graph of count and mean differences between males and females author's books (from 1990 to nowadays)."
      ]
    },
    {
      "cell_type": "code",
      "metadata": {
        "id": "TIpxD2lQqBfP"
      },
      "source": [
        "years_1990 = df[df[\"year\"] >= 1990][\"year\"].unique()\n",
        "years_1990.sort()\n",
        "\n",
        "cumm_count_dif = [\n",
        "    abs(df[(df[\"author_male\"] == 1) & (df[\"year\"] <= year)][\"price\"].describe()[0] -\n",
        "    df[(df[\"author_female\"] == 1) & (df[\"year\"] <= year)][\"price\"].describe()[0]) /\n",
        "    (df[(df[\"author_male\"] == 1) & (df[\"year\"] <= year)][\"price\"].describe()[0] +\n",
        "    df[(df[\"author_female\"] == 1) & (df[\"year\"] <= year)][\"price\"].describe()[0]) * 100\n",
        "    for year in years_1990\n",
        "]\n",
        "cumm_mean_dif = [\n",
        "    abs(df[(df[\"author_male\"] == 1) & (df[\"year\"] <= year)][\"price\"].describe()[1] -\n",
        "    df[(df[\"author_female\"] == 1) & (df[\"year\"] <= year)][\"price\"].describe()[1]) /\n",
        "    (df[(df[\"author_male\"] == 1) & (df[\"year\"] <= year)][\"price\"].describe()[1] +\n",
        "    df[(df[\"author_female\"] == 1) & (df[\"year\"] <= year)][\"price\"].describe()[1]) * 100\n",
        "    for year in years_1990\n",
        "]"
      ],
      "execution_count": 62,
      "outputs": []
    },
    {
      "cell_type": "code",
      "metadata": {
        "id": "gAx3VQvwqFPR",
        "colab": {
          "base_uri": "https://localhost:8080/",
          "height": 393
        },
        "outputId": "bf3ad42d-4fc6-42c5-a6bf-7c8be1fbcc3b"
      },
      "source": [
        "fig, ax = plt.subplots(figsize=(12, 6))\n",
        "sns.lineplot(x=years_1990, y=cumm_count_dif)\n",
        "sns.lineplot(x=years_1990, y=cumm_mean_dif)\n",
        "ax.legend([\"count diff\", \"mean diff\"], fontsize=12)\n",
        "plt.title(\"Cummulative Males - Females difference (in %)\", fontsize=15)\n",
        "plt.xticks(fontsize=12)\n",
        "plt.yticks(fontsize=12)\n",
        "plt.show()"
      ],
      "execution_count": 63,
      "outputs": [
        {
          "output_type": "display_data",
          "data": {
            "image/png": "[encoded data removed]",
            "text/plain": [
              "<Figure size 864x432 with 1 Axes>"
            ]
          },
          "metadata": {
            "tags": [],
            "needs_background": "light"
          }
        }
      ]
    },
    {
      "cell_type": "markdown",
      "metadata": {
        "id": "uR5u0tmyRmBs"
      },
      "source": [
        "And the Training Set's frequency of topics per gender."
      ]
    },
    {
      "cell_type": "code",
      "metadata": {
        "id": "eUvJfixESHDz"
      },
      "source": [
        "temporary = [\"non\" for idx in df.index]\n",
        "\n",
        "for idx in df.index:\n",
        "    if df[\"author_male\"][idx] == 1:\n",
        "        temporary[idx] = \"male\"\n",
        "    if df[\"author_female\"][idx] == 1:\n",
        "        temporary[idx] = \"female\"\n",
        "\n",
        "df[\"temporary\"] = temporary"
      ],
      "execution_count": 64,
      "outputs": []
    },
    {
      "cell_type": "code",
      "metadata": {
        "id": "F3Jvq_7jSHwj",
        "colab": {
          "base_uri": "https://localhost:8080/",
          "height": 740
        },
        "outputId": "3b0e8199-9cfb-4084-ef24-e0b0021d9abb"
      },
      "source": [
        "fig = plt.subplots(figsize=(12, 10))\n",
        "sns.histplot(x=\"topic\", hue=\"temporary\", data=df.iloc[0:df.shape[0]-700], multiple=\"stack\")\n",
        "plt.xticks(fontsize=12, rotation=90)\n",
        "plt.yticks(fontsize=12)\n",
        "plt.legend([\"Non-Assigned\", \"Male\", \"Female\"], fontsize=15)\n",
        "plt.show()"
      ],
      "execution_count": 65,
      "outputs": [
        {
          "output_type": "display_data",
          "data": {
            "image/png": "[encoded data removed]",
            "text/plain": [
              "<Figure size 864x720 with 1 Axes>"
            ]
          },
          "metadata": {
            "tags": [],
            "needs_background": "light"
          }
        }
      ]
    },
    {
      "cell_type": "code",
      "metadata": {
        "id": "TJBGv4n3SKLD"
      },
      "source": [
        "df.drop(columns=\"temporary\", inplace=True)"
      ],
      "execution_count": 66,
      "outputs": []
    },
    {
      "cell_type": "markdown",
      "metadata": {
        "id": "IphtvBAHeB0Z"
      },
      "source": [
        "### Publisher"
      ]
    },
    {
      "cell_type": "markdown",
      "metadata": {
        "id": "Iy5Il5TXeGIT"
      },
      "source": [
        "Some publishers has similar strings, that we may uniformize them"
      ]
    },
    {
      "cell_type": "code",
      "metadata": {
        "id": "HFTA2AJbeEU0"
      },
      "source": [
        "for idx in df.index:\n",
        "    if not df[\"publisher\"].isna()[idx]:\n",
        "        df.at[idx, \"publisher\"] = df[\"publisher\"][idx].replace(\"á\", \"a\").replace(\"é\", \n",
        "            \"e\").replace(\"í\", \"i\").replace(\"ó\", \"o\").replace(\"ú\", \"u\")\n",
        "        df.at[idx, \"publisher\"] = df[\"publisher\"][idx].lower().replace(\" \", \"\")"
      ],
      "execution_count": 67,
      "outputs": []
    },
    {
      "cell_type": "markdown",
      "metadata": {
        "id": "-XNjg4peetNJ"
      },
      "source": [
        "And obtain a total number of unique publishers of"
      ]
    },
    {
      "cell_type": "code",
      "metadata": {
        "colab": {
          "base_uri": "https://localhost:8080/"
        },
        "id": "a5866OKqecch",
        "outputId": "9548cb9a-95dd-4e0d-f620-12129007bfec"
      },
      "source": [
        "print(df[\"publisher\"].nunique())"
      ],
      "execution_count": 68,
      "outputs": [
        {
          "output_type": "stream",
          "text": [
            "365\n"
          ],
          "name": "stdout"
        }
      ]
    },
    {
      "cell_type": "markdown",
      "metadata": {
        "id": "K25Ti8p9e-5N"
      },
      "source": [
        "In the Test Set the number of publishers that have a duplicate in the Training Set is"
      ]
    },
    {
      "cell_type": "code",
      "metadata": {
        "colab": {
          "base_uri": "https://localhost:8080/"
        },
        "id": "2YGcsDjCe4zx",
        "outputId": "2429d5f0-aeed-4d60-f50f-2115986450de"
      },
      "source": [
        "train_publishers = [df[\"publisher\"][idx] for idx in range(df.shape[0]-700)]\n",
        "test_publishers = [df[\"publisher\"][idx] for idx in range(df.shape[0]-700, df.shape[0])]\n",
        "\n",
        "num_check = 0\n",
        "for pub in test_publishers:\n",
        "    if pub in train_publishers:\n",
        "        num_check += 1\n",
        "\n",
        "print(num_check, \"rows of a total of\", test.shape[0], \".\")"
      ],
      "execution_count": 69,
      "outputs": [
        {
          "output_type": "stream",
          "text": [
            "664 rows of a total of 700 .\n"
          ],
          "name": "stdout"
        }
      ]
    },
    {
      "cell_type": "markdown",
      "metadata": {
        "id": "FJ8zN-yKfebD"
      },
      "source": [
        "**One possible way to encode a column with a large amount of unique objects is to consider the percentage of belonging to each target label** (in the Training Set).\n",
        "First create the empty columns"
      ]
    },
    {
      "cell_type": "code",
      "metadata": {
        "id": "YvGODxBvkTvN"
      },
      "source": [
        "for col in df[\"topic\"].dropna().unique():\n",
        "    df[col + \"_Pub_Encode\"] = 0.0"
      ],
      "execution_count": 70,
      "outputs": []
    },
    {
      "cell_type": "markdown",
      "metadata": {
        "id": "Sp6uTMpBlH5X"
      },
      "source": [
        "Then fill them with the percentages"
      ]
    },
    {
      "cell_type": "code",
      "metadata": {
        "id": "UPj80oMqfOKy"
      },
      "source": [
        "unique_pub = df[\"publisher\"].dropna().unique()\n",
        "\n",
        "for pub in unique_pub:\n",
        "    indexes = df[df[\"publisher\"] == pub].index\n",
        "    indexes_train = [i for i in indexes if i < df.shape[0]-700]\n",
        "    if len(indexes_train) > 0:\n",
        "        enc_vec = {top + \"_Pub_Encode\":0 for top in df[\"topic\"].dropna().unique()}\n",
        "        scale_factor = len(indexes_train)\n",
        "        for col, val in enc_vec.items():\n",
        "            update = 0\n",
        "            for top in df.iloc[indexes_train][\"topic\"]:\n",
        "                if top + \"_Pub_Encode\" == col:\n",
        "                    update += 1\n",
        "            update = round(update / scale_factor, 4)\n",
        "            update_dic = {col: update}\n",
        "            enc_vec.update(update_dic)\n",
        "        for col, val in enc_vec.items():\n",
        "            for idx in indexes:\n",
        "                df.at[idx, col] = val"
      ],
      "execution_count": 71,
      "outputs": []
    },
    {
      "cell_type": "markdown",
      "metadata": {
        "id": "bwOAkYTjlgED"
      },
      "source": [
        "### Language"
      ]
    },
    {
      "cell_type": "markdown",
      "metadata": {
        "id": "TA4bZmhxliiA"
      },
      "source": [
        "In language column we have the following unique values"
      ]
    },
    {
      "cell_type": "code",
      "metadata": {
        "colab": {
          "base_uri": "https://localhost:8080/"
        },
        "id": "bOuEuyjiliN2",
        "outputId": "1675a6a7-bb6a-4838-c98d-1a915afac0f4"
      },
      "source": [
        "print(df[\"language\"].unique())"
      ],
      "execution_count": 72,
      "outputs": [
        {
          "output_type": "stream",
          "text": [
            "['Español' 'Castellano' nan 'Espanol' 'Inglés' 'Información no disponible'\n",
            " 'Esspañol' 'Españo' 'Españolpáginas' 'Catalan' 'Castilian' 'Alemán']\n"
          ],
          "name": "stdout"
        }
      ]
    },
    {
      "cell_type": "markdown",
      "metadata": {
        "id": "zRqm3HBPmVRs"
      },
      "source": [
        "for which the following indexes belong to Train and Test Set."
      ]
    },
    {
      "cell_type": "code",
      "metadata": {
        "colab": {
          "base_uri": "https://localhost:8080/"
        },
        "id": "btZ9v-fvmpqZ",
        "outputId": "02605888-7bc9-44ef-bfaa-70deb02eebda"
      },
      "source": [
        "print(\"Indexes in Train Set:\")\n",
        "print(\"English:\", [idx for idx in df[df[\"language\"] == \"Inglés\"].index if idx < df.shape[0]-700])\n",
        "print(\"Catalan:\", [idx for idx in df[df[\"language\"] == \"Catalan\"].index if idx < df.shape[0]-700])\n",
        "print(\"German:\", [idx for idx in df[df[\"language\"] == \"Alemán\"].index if idx < df.shape[0]-700])\n",
        "print(\"\\n\")\n",
        "print(\"Indexes in Test Set:\")\n",
        "print(\"English:\", [idx for idx in df[df[\"language\"] == \"Inglés\"].index if idx >= df.shape[0]-700])\n",
        "print(\"Catalan:\", [idx for idx in df[df[\"language\"] == \"Catalan\"].index if idx >= df.shape[0]-700])\n",
        "print(\"German:\", [idx for idx in df[df[\"language\"] == \"Alemán\"].index if idx >= df.shape[0]-700])"
      ],
      "execution_count": 73,
      "outputs": [
        {
          "output_type": "stream",
          "text": [
            "Indexes in Train Set:\n",
            "English: [104, 316, 1634, 1931, 2077, 2105, 2110, 2219, 2529, 2613]\n",
            "Catalan: [2220]\n",
            "German: []\n",
            "\n",
            "\n",
            "Indexes in Test Set:\n",
            "English: []\n",
            "Catalan: []\n",
            "German: [3279]\n"
          ],
          "name": "stdout"
        }
      ]
    },
    {
      "cell_type": "markdown",
      "metadata": {
        "id": "PEL6XWYPmf-d"
      },
      "source": [
        "Just 1 book in the Test Set is in German language, and we have 0 German books in Traing Set. So we are ignoring the entire column"
      ]
    },
    {
      "cell_type": "markdown",
      "metadata": {
        "id": "hfYlC2qInZZG"
      },
      "source": [
        "### Format"
      ]
    },
    {
      "cell_type": "markdown",
      "metadata": {
        "id": "1J6iCrqbnbus"
      },
      "source": [
        "The unique formats are"
      ]
    },
    {
      "cell_type": "code",
      "metadata": {
        "colab": {
          "base_uri": "https://localhost:8080/"
        },
        "id": "uKYcQpGbl1TJ",
        "outputId": "9c700d68-4431-4f2e-ec4a-ea81225e841c"
      },
      "source": [
        "print(df[\"format\"].unique())"
      ],
      "execution_count": 74,
      "outputs": [
        {
          "output_type": "stream",
          "text": [
            "['Libro físico' nan 'Ebook' 'Libro fisico']\n"
          ],
          "name": "stdout"
        }
      ]
    },
    {
      "cell_type": "markdown",
      "metadata": {
        "id": "N89EFcf7n5Mh"
      },
      "source": [
        "And similar to language column, there are only 2 books with \"Ebook\" format whose indexes belong to the Trainig Set."
      ]
    },
    {
      "cell_type": "code",
      "metadata": {
        "colab": {
          "base_uri": "https://localhost:8080/"
        },
        "id": "J02UvHsKnfo6",
        "outputId": "c00d5ae7-b4c8-4a40-fb6c-76bded356389"
      },
      "source": [
        "print(df[df[\"format\"] == \"Ebook\"].index)"
      ],
      "execution_count": 75,
      "outputs": [
        {
          "output_type": "stream",
          "text": [
            "Int64Index([721, 738], dtype='int64')\n"
          ],
          "name": "stdout"
        }
      ]
    },
    {
      "cell_type": "markdown",
      "metadata": {
        "id": "HvaGH6PQoQff"
      },
      "source": [
        "It makes sense to have a lower amount of Ebooks, as the data was scrapped from the \"Fast-Shipping books\" section. They should be mislabeled.\n",
        "Again, we are omitting the entire column"
      ]
    },
    {
      "cell_type": "markdown",
      "metadata": {
        "id": "d5FJKObLozBH"
      },
      "source": [
        "## Preprocessed Data write"
      ]
    },
    {
      "cell_type": "markdown",
      "metadata": {
        "id": "wnit2Msvo2vd"
      },
      "source": [
        "Finally we write two new datasets for the preprocessed data"
      ]
    },
    {
      "cell_type": "code",
      "metadata": {
        "colab": {
          "base_uri": "https://localhost:8080/"
        },
        "id": "1w1ck7DkpMKQ",
        "outputId": "5be6dd98-94d0-4e89-bf82-70b9611a27a3"
      },
      "source": [
        "train_preprocessed = df.iloc[0:df.shape[0]-700].drop(columns=[\n",
        "    \"name\", \"author\", \"publisher\", \"year\", \"language\", \"pages\", \"format\", \"price\", \"url\"\n",
        "])\n",
        "test_preprocessed = df.iloc[df.shape[0]-700:df.shape[0]].drop(columns=[\n",
        "    \"name\", \"author\", \"publisher\", \"year\", \"language\", \"pages\", \"format\", \"price\", \"url\", \"topic\"\n",
        "]).reset_index(drop=True)\n",
        "print(train_preprocessed.shape)\n",
        "print(test_preprocessed.shape)"
      ],
      "execution_count": 76,
      "outputs": [
        {
          "output_type": "stream",
          "text": [
            "(2664, 21)\n",
            "(700, 20)\n"
          ],
          "name": "stdout"
        }
      ]
    },
    {
      "cell_type": "markdown",
      "metadata": {
        "id": "DgbtKId2rbfn"
      },
      "source": [
        "CSV write:"
      ]
    },
    {
      "cell_type": "code",
      "metadata": {
        "colab": {
          "base_uri": "https://localhost:8080/",
          "height": 17
        },
        "id": "nBaP16CMqmBJ",
        "outputId": "8751f176-a399-4cd6-bda5-147f623418e9"
      },
      "source": [
        "train_preprocessed.to_csv(\"train_preprocessed.csv\", index=False)\n",
        "test_preprocessed.to_csv(\"test_preprocessed.csv\", index=False)\n",
        "\n",
        "files.download(\"train_preprocessed.csv\")\n",
        "files.download(\"test_preprocessed.csv\")"
      ],
      "execution_count": 77,
      "outputs": [
        {
          "output_type": "display_data",
          "data": {
            "application/javascript": [
              "\n",
              "    async function download(id, filename, size) {\n",
              "      if (!google.colab.kernel.accessAllowed) {\n",
              "        return;\n",
              "      }\n",
              "      const div = document.createElement('div');\n",
              "      const label = document.createElement('label');\n",
              "      label.textContent = `Downloading \"${filename}\": `;\n",
              "      div.appendChild(label);\n",
              "      const progress = document.createElement('progress');\n",
              "      progress.max = size;\n",
              "      div.appendChild(progress);\n",
              "      document.body.appendChild(div);\n",
              "\n",
              "      const buffers = [];\n",
              "      let downloaded = 0;\n",
              "\n",
              "      const channel = await google.colab.kernel.comms.open(id);\n",
              "      // Send a message to notify the kernel that we're ready.\n",
              "      channel.send({})\n",
              "\n",
              "      for await (const message of channel.messages) {\n",
              "        // Send a message to notify the kernel that we're ready.\n",
              "        channel.send({})\n",
              "        if (message.buffers) {\n",
              "          for (const buffer of message.buffers) {\n",
              "            buffers.push(buffer);\n",
              "            downloaded += buffer.byteLength;\n",
              "            progress.value = downloaded;\n",
              "          }\n",
              "        }\n",
              "      }\n",
              "      const blob = new Blob(buffers, {type: 'application/binary'});\n",
              "      const a = document.createElement('a');\n",
              "      a.href = window.URL.createObjectURL(blob);\n",
              "      a.download = filename;\n",
              "      div.appendChild(a);\n",
              "      a.click();\n",
              "      div.remove();\n",
              "    }\n",
              "  "
            ],
            "text/plain": [
              "<IPython.core.display.Javascript object>"
            ]
          },
          "metadata": {
            "tags": []
          }
        },
        {
          "output_type": "display_data",
          "data": {
            "application/javascript": [
              "download(\"download_8ad98649-b7e1-4277-9d7a-cc991941e61f\", \"train_preprocessed.csv\", 2870154)"
            ],
            "text/plain": [
              "<IPython.core.display.Javascript object>"
            ]
          },
          "metadata": {
            "tags": []
          }
        },
        {
          "output_type": "display_data",
          "data": {
            "application/javascript": [
              "\n",
              "    async function download(id, filename, size) {\n",
              "      if (!google.colab.kernel.accessAllowed) {\n",
              "        return;\n",
              "      }\n",
              "      const div = document.createElement('div');\n",
              "      const label = document.createElement('label');\n",
              "      label.textContent = `Downloading \"${filename}\": `;\n",
              "      div.appendChild(label);\n",
              "      const progress = document.createElement('progress');\n",
              "      progress.max = size;\n",
              "      div.appendChild(progress);\n",
              "      document.body.appendChild(div);\n",
              "\n",
              "      const buffers = [];\n",
              "      let downloaded = 0;\n",
              "\n",
              "      const channel = await google.colab.kernel.comms.open(id);\n",
              "      // Send a message to notify the kernel that we're ready.\n",
              "      channel.send({})\n",
              "\n",
              "      for await (const message of channel.messages) {\n",
              "        // Send a message to notify the kernel that we're ready.\n",
              "        channel.send({})\n",
              "        if (message.buffers) {\n",
              "          for (const buffer of message.buffers) {\n",
              "            buffers.push(buffer);\n",
              "            downloaded += buffer.byteLength;\n",
              "            progress.value = downloaded;\n",
              "          }\n",
              "        }\n",
              "      }\n",
              "      const blob = new Blob(buffers, {type: 'application/binary'});\n",
              "      const a = document.createElement('a');\n",
              "      a.href = window.URL.createObjectURL(blob);\n",
              "      a.download = filename;\n",
              "      div.appendChild(a);\n",
              "      a.click();\n",
              "      div.remove();\n",
              "    }\n",
              "  "
            ],
            "text/plain": [
              "<IPython.core.display.Javascript object>"
            ]
          },
          "metadata": {
            "tags": []
          }
        },
        {
          "output_type": "display_data",
          "data": {
            "application/javascript": [
              "download(\"download_d2686736-69f6-4365-babd-66d229392f8f\", \"test_preprocessed.csv\", 759533)"
            ],
            "text/plain": [
              "<IPython.core.display.Javascript object>"
            ]
          },
          "metadata": {
            "tags": []
          }
        }
      ]
    }
  ]
}
